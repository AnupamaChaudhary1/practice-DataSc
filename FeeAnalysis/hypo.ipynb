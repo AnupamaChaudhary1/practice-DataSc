{
 "cells": [
  {
   "cell_type": "markdown",
   "id": "dd16858d",
   "metadata": {},
   "source": [
    "does class A perform better than class B\n",
    "- H0: There is a big difference in performance.\n",
    "- H1: There is no big difference in performance of Class A and Class B.\n"
   ]
  },
  {
   "cell_type": "code",
   "execution_count": 3,
   "id": "c5be9482",
   "metadata": {},
   "outputs": [
    {
     "name": "stdout",
     "output_type": "stream",
     "text": [
      "4.125259977268504 0.0006354905899385693\n",
      "reject H0 accept H1\n",
      "There is no big differenve\n"
     ]
    }
   ],
   "source": [
    "import numpy as np\n",
    "from scipy.stats import ttest_ind\n",
    "class_a =np.random.randint(70,90,10)\n",
    "class_b=np.random.randint(60,80,10)\n",
    "t_stat,p_val=ttest_ind(class_a, class_b)\n",
    "print(t_stat, p_val)\n",
    "\n",
    "if p_val<0.05:\n",
    "    print('reject H0 accept H1')\n",
    "    print('There is no big differenve')\n",
    "else:\n",
    "    print('accept H0')\n",
    "    print('There is  big differenve')"
   ]
  }
 ],
 "metadata": {
  "kernelspec": {
   "display_name": "broadwayenv",
   "language": "python",
   "name": "python3"
  },
  "language_info": {
   "codemirror_mode": {
    "name": "ipython",
    "version": 3
   },
   "file_extension": ".py",
   "mimetype": "text/x-python",
   "name": "python",
   "nbconvert_exporter": "python",
   "pygments_lexer": "ipython3",
   "version": "3.13.3"
  }
 },
 "nbformat": 4,
 "nbformat_minor": 5
}
