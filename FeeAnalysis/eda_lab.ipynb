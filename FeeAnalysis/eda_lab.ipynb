{
 "cells": [
  {
   "cell_type": "markdown",
   "id": "345551b2",
   "metadata": {},
   "source": [
    "Overview of Machine Learning\n",
    "1. problem defination:  Goals: understand what we are trying to solve\n",
    "eg: predict student scores based on study\n",
    "    clalssify emails as spam or not\n",
    "2. Data collecton\n",
    "goal: gather relevanta and sufficient data to work\n",
    "Sources: csv file, excel, APIs,web scraping: extract data from  like(websites) \n",
    "tools: pandas, numpy, scipy, sql,\n",
    "eg: collect 1000 students scores, attendence and bg info.\n",
    "3. EDA \n",
    "Data Wrangling:\n",
    "goal: fix missing values, remove duplicates, correct data types, \n",
    "Tasks:\n",
    "   - fill missing values\n",
    "   - removing outliers\n",
    "   - convert data types\n",
    "   - dropping irrelevant columns\n",
    "tools: pandas, numpy\n",
    "Goals= to understand the data through statistics and visualizations.\n",
    "- What is data distrubution?\n",
    "- are there any correlations between features?\n",
    "- which variables are most important?\n",
    "- data visualizations using matlotib and seaborn\n",
    "4. Feature Engineering\n",
    "goals: Transform row data into useful features.\n",
    "Eg: - extracting \"average score\" from subject scores\n",
    "    - creating binary columns for categorical values\n",
    "    - scaling/ normalization features\n",
    "\n",
    "5. spliting the data\n",
    "Goal: split data into training and testing sets\n",
    "Common ratio: 80:20 or 70:20\n",
    "6. model selection\n",
    "goal: choose an appropriate algorithm ans train it.\n",
    "examples: linear regression, decision trees, k-nearest neighbors\n",
    "7. training evluation\n",
    "goal: measure mode accuracy and performance\n",
    "    \n",
    "8. deployment and moitoring\n",
    "goal: put the model into production\n",
    "\n",
    "EDA=Exploratory data analysis is a process of examining any data set to summarize its main characteristics, often using visual methods. It helps us understand the sturcture, patterns, anomalies and relationships in the data before applying any modeling or ML.\n",
    "objectives:\n",
    "  - understand the distribution of variables\n",
    "  - detect outliers and anomalies\n",
    "  - identify patterns\n",
    "  - spot missing or incorrect data\n",
    "  - discover relationships between features \n"
   ]
  },
  {
   "cell_type": "markdown",
   "id": "7d3cc161",
   "metadata": {},
   "source": [
    "1. Understanding datasets"
   ]
  },
  {
   "cell_type": "markdown",
   "id": "664b14af",
   "metadata": {},
   "source": [
    "load dataset using pandas"
   ]
  },
  {
   "cell_type": "code",
   "execution_count": 9,
   "id": "247362da",
   "metadata": {},
   "outputs": [
    {
     "name": "stdout",
     "output_type": "stream",
     "text": [
      "<class 'pandas.core.frame.DataFrame'>\n",
      "RangeIndex: 5 entries, 0 to 4\n",
      "Data columns (total 8 columns):\n",
      " #   Column    Non-Null Count  Dtype \n",
      "---  ------    --------------  ----- \n",
      " 0   id        5 non-null      object\n",
      " 1   name      5 non-null      object\n",
      " 2   batch     5 non-null      object\n",
      " 3   math      5 non-null      int64 \n",
      " 4   science   5 non-null      int64 \n",
      " 5   english   5 non-null      int64 \n",
      " 6   history   5 non-null      int64 \n",
      " 7   computer  5 non-null      int64 \n",
      "dtypes: int64(5), object(3)\n",
      "memory usage: 452.0+ bytes\n"
     ]
    },
    {
     "data": {
      "text/html": [
       "<div>\n",
       "<style scoped>\n",
       "    .dataframe tbody tr th:only-of-type {\n",
       "        vertical-align: middle;\n",
       "    }\n",
       "\n",
       "    .dataframe tbody tr th {\n",
       "        vertical-align: top;\n",
       "    }\n",
       "\n",
       "    .dataframe thead th {\n",
       "        text-align: right;\n",
       "    }\n",
       "</style>\n",
       "<table border=\"1\" class=\"dataframe\">\n",
       "  <thead>\n",
       "    <tr style=\"text-align: right;\">\n",
       "      <th></th>\n",
       "      <th>math</th>\n",
       "      <th>science</th>\n",
       "      <th>english</th>\n",
       "      <th>history</th>\n",
       "      <th>computer</th>\n",
       "    </tr>\n",
       "  </thead>\n",
       "  <tbody>\n",
       "    <tr>\n",
       "      <th>count</th>\n",
       "      <td>5.000000</td>\n",
       "      <td>5.000000</td>\n",
       "      <td>5.000000</td>\n",
       "      <td>5.000000</td>\n",
       "      <td>5.000000</td>\n",
       "    </tr>\n",
       "    <tr>\n",
       "      <th>mean</th>\n",
       "      <td>67.200000</td>\n",
       "      <td>84.000000</td>\n",
       "      <td>59.600000</td>\n",
       "      <td>61.600000</td>\n",
       "      <td>73.400000</td>\n",
       "    </tr>\n",
       "    <tr>\n",
       "      <th>std</th>\n",
       "      <td>17.767949</td>\n",
       "      <td>15.280707</td>\n",
       "      <td>14.876155</td>\n",
       "      <td>10.784248</td>\n",
       "      <td>21.314314</td>\n",
       "    </tr>\n",
       "    <tr>\n",
       "      <th>min</th>\n",
       "      <td>47.000000</td>\n",
       "      <td>62.000000</td>\n",
       "      <td>41.000000</td>\n",
       "      <td>50.000000</td>\n",
       "      <td>42.000000</td>\n",
       "    </tr>\n",
       "    <tr>\n",
       "      <th>25%</th>\n",
       "      <td>58.000000</td>\n",
       "      <td>75.000000</td>\n",
       "      <td>50.000000</td>\n",
       "      <td>54.000000</td>\n",
       "      <td>63.000000</td>\n",
       "    </tr>\n",
       "    <tr>\n",
       "      <th>50%</th>\n",
       "      <td>61.000000</td>\n",
       "      <td>91.000000</td>\n",
       "      <td>60.000000</td>\n",
       "      <td>63.000000</td>\n",
       "      <td>82.000000</td>\n",
       "    </tr>\n",
       "    <tr>\n",
       "      <th>75%</th>\n",
       "      <td>78.000000</td>\n",
       "      <td>92.000000</td>\n",
       "      <td>68.000000</td>\n",
       "      <td>63.000000</td>\n",
       "      <td>83.000000</td>\n",
       "    </tr>\n",
       "    <tr>\n",
       "      <th>max</th>\n",
       "      <td>92.000000</td>\n",
       "      <td>100.000000</td>\n",
       "      <td>79.000000</td>\n",
       "      <td>78.000000</td>\n",
       "      <td>97.000000</td>\n",
       "    </tr>\n",
       "  </tbody>\n",
       "</table>\n",
       "</div>"
      ],
      "text/plain": [
       "            math     science    english    history   computer\n",
       "count   5.000000    5.000000   5.000000   5.000000   5.000000\n",
       "mean   67.200000   84.000000  59.600000  61.600000  73.400000\n",
       "std    17.767949   15.280707  14.876155  10.784248  21.314314\n",
       "min    47.000000   62.000000  41.000000  50.000000  42.000000\n",
       "25%    58.000000   75.000000  50.000000  54.000000  63.000000\n",
       "50%    61.000000   91.000000  60.000000  63.000000  82.000000\n",
       "75%    78.000000   92.000000  68.000000  63.000000  83.000000\n",
       "max    92.000000  100.000000  79.000000  78.000000  97.000000"
      ]
     },
     "execution_count": 9,
     "metadata": {},
     "output_type": "execute_result"
    }
   ],
   "source": [
    "import pandas as pd\n",
    "df=pd.read_csv('test_student copy.csv')\n",
    "df.head()\n",
    "df.info()\n",
    "df.describe()"
   ]
  },
  {
   "cell_type": "markdown",
   "id": "d1aa243d",
   "metadata": {},
   "source": [
    "2. Univariate Anslysis\n",
    "- analyze one variable at a time\n",
    "- use histograms, box plot and value counts"
   ]
  },
  {
   "cell_type": "code",
   "execution_count": null,
   "id": "4a9f354e",
   "metadata": {},
   "outputs": [],
   "source": [
    "import seaborn as sns\n",
    "import matplotlib.pylab as plt"
   ]
  },
  {
   "cell_type": "markdown",
   "id": "a505b19d",
   "metadata": {},
   "source": [
    "3. Bivariate/Multivariate analysis\n",
    " - study relationships between two or more analysis\n",
    " - use scatter plot, pair plot, correlation matrix\n",
    " "
   ]
  },
  {
   "cell_type": "markdown",
   "id": "5ac0f70b",
   "metadata": {},
   "source": [
    "4. detecting outliers\n",
    " - use boxplots and z-score methods"
   ]
  },
  {
   "cell_type": "markdown",
   "id": "1bb122a1",
   "metadata": {},
   "source": [
    "5. handle missing values\n",
    "6. data cleaning\n",
    "7. feature transformation\n"
   ]
  },
  {
   "cell_type": "markdown",
   "id": "c17a14dd",
   "metadata": {},
   "source": [
    "Feature engineering is the process of using domain knowledge to slelect, modify or create raw features form raw data that helps to improve performance of ML models.\n",
    "Types of features:\n",
    "1. numerical(continuous)\n",
    "2. categorical: gender, country , product_type\n",
    "3. Binary: yes/no, 1/0, male/female\n",
    "4. Ordinal: low, med, high"
   ]
  }
 ],
 "metadata": {
  "kernelspec": {
   "display_name": "broadwayenv",
   "language": "python",
   "name": "python3"
  },
  "language_info": {
   "codemirror_mode": {
    "name": "ipython",
    "version": 3
   },
   "file_extension": ".py",
   "mimetype": "text/x-python",
   "name": "python",
   "nbconvert_exporter": "python",
   "pygments_lexer": "ipython3",
   "version": "3.13.3"
  }
 },
 "nbformat": 4,
 "nbformat_minor": 5
}
