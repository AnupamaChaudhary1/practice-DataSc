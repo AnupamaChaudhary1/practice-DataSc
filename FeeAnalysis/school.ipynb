{
 "cells": [
  {
   "cell_type": "code",
   "execution_count": 1,
   "id": "85d6c966",
   "metadata": {},
   "outputs": [
    {
     "name": "stdout",
     "output_type": "stream",
     "text": [
      "Missing values per column:\n",
      " Annual Tuition Fee (NPR)        0\n",
      "Admission Fee (NPR)           253\n",
      "Monthly Fee (NPR)               0\n",
      "Infrastructure Score            0\n",
      "Student-Teacher Ratio           0\n",
      "Average Academic Score (%)      0\n",
      "Total Enrolled Students         0\n",
      "Scholarship % Availability      0\n",
      "Technology Access Index       253\n",
      "Fee Increase % (YoY)            0\n",
      "dtype: int64\n"
     ]
    }
   ],
   "source": [
    "import pandas as pd\n",
    "\n",
    "# loading a DataFrame\n",
    "df = pd.read_csv('Anupama_Wrangled_School_Fee_Dataset.csv')\n",
    "\n",
    "print(\"Missing values per column:\\n\", df.isnull().sum())\n",
    "\n"
   ]
  },
  {
   "cell_type": "code",
   "execution_count": 2,
   "id": "1fbe7a02",
   "metadata": {},
   "outputs": [
    {
     "name": "stdout",
     "output_type": "stream",
     "text": [
      "Annual Tuition Fee (NPR)      0\n",
      "Admission Fee (NPR)           0\n",
      "Monthly Fee (NPR)             0\n",
      "Infrastructure Score          0\n",
      "Student-Teacher Ratio         0\n",
      "Average Academic Score (%)    0\n",
      "Total Enrolled Students       0\n",
      "Scholarship % Availability    0\n",
      "Technology Access Index       0\n",
      "Fee Increase % (YoY)          0\n",
      "dtype: int64\n"
     ]
    }
   ],
   "source": [
    "# Calculate the mean values (ignoring NaNs)\n",
    "admission_fee_mean = df['Admission Fee (NPR)'].median()\n",
    "tech_access_mean = df['Technology Access Index'].mean()\n",
    "\n",
    "# Fill missing values with the mean\n",
    "df['Admission Fee (NPR)'] = df['Admission Fee (NPR)'].fillna(admission_fee_mean)\n",
    "df['Technology Access Index'] = df['Technology Access Index'].fillna(tech_access_mean)\n",
    "\n",
    "# Check missing values again to confirm\n",
    "print(df.isnull().sum())\n",
    "\n",
    "# Save the cleaned DataFrame to a new CSV file\n",
    "df.to_csv('cleaned_data.csv', index=False)\n"
   ]
  },
  {
   "cell_type": "code",
   "execution_count": 3,
   "id": "ad116f19",
   "metadata": {},
   "outputs": [
    {
     "name": "stdout",
     "output_type": "stream",
     "text": [
      "59.75531633724153\n"
     ]
    }
   ],
   "source": [
    "tech_access_mean = df['Technology Access Index'].mean()\n",
    "print(tech_access_mean)"
   ]
  },
  {
   "cell_type": "code",
   "execution_count": 4,
   "id": "fcd66fe0",
   "metadata": {},
   "outputs": [],
   "source": [
    "# 1. Convert 'Monthly Fee (NPR)' to numeric, setting non-numeric values to NaN\n",
    "df['Monthly Fee (NPR)'] = pd.to_numeric(df['Monthly Fee (NPR)'], errors='coerce')\n",
    "\n",
    "# 2. Calculate the mean of the column (ignores NaN)\n",
    "monthly_fee_mean = df['Monthly Fee (NPR)'].mean()\n",
    "\n",
    "# 3. Fill NaN values with the mean\n",
    "df['Monthly Fee (NPR)'] = df['Monthly Fee (NPR)'].fillna(monthly_fee_mean)\n",
    "\n",
    "\n",
    "# 4. Save the updated DataFrame to a new CSV file\n",
    "df.to_csv('cleaned_data.csv', index=False)\n"
   ]
  },
  {
   "cell_type": "code",
   "execution_count": 5,
   "id": "6af14170",
   "metadata": {},
   "outputs": [
    {
     "name": "stdout",
     "output_type": "stream",
     "text": [
      "Remaining NaNs in Student-Teacher Ratio: 0\n"
     ]
    }
   ],
   "source": [
    "# Step 1: Convert to string and strip spaces\n",
    "df['Student-Teacher Ratio'] = df['Student-Teacher Ratio'].astype(str).str.strip()\n",
    "\n",
    "# Step 2: Convert to numeric, replacing invalid entries with NaN\n",
    "df['Student-Teacher Ratio'] = pd.to_numeric(df['Student-Teacher Ratio'], errors='coerce')\n",
    "\n",
    "# Step 3: Fill NaNs with the column mean (optional, if needed)\n",
    "ratio_mean = df['Student-Teacher Ratio'].mean()\n",
    "df['Student-Teacher Ratio'] = df['Student-Teacher Ratio'].fillna(ratio_mean)\n",
    "\n",
    "# Step 4: Save cleaned data to a new CSV file\n",
    "df.to_csv('cleaned_data.csv', index=False)\n",
    "\n",
    "# Optional: Check for any missing or incorrectly formatted values\n",
    "print(\"Remaining NaNs in Student-Teacher Ratio:\", df['Student-Teacher Ratio'].isnull().sum())\n",
    "\n",
    "\n"
   ]
  },
  {
   "cell_type": "code",
   "execution_count": 6,
   "id": "beb328ac",
   "metadata": {},
   "outputs": [
    {
     "name": "stdout",
     "output_type": "stream",
     "text": [
      "      Annual Tuition Fee (NPR)  Admission Fee (NPR)  Monthly Fee (NPR)  \\\n",
      "5000                     46267              12507.0        3564.000000   \n",
      "5001                     49093              10539.0        3890.000000   \n",
      "5002                     23221               3797.0        3770.000000   \n",
      "5003                     50553               9955.0        4586.000000   \n",
      "5004                     64424              14021.0        5209.000000   \n",
      "5005                     68053              11590.0        5197.000000   \n",
      "5006                     70591               9955.0        4304.000000   \n",
      "5007                     57508               9157.0        2746.000000   \n",
      "5008                     60450               7464.0        4278.000000   \n",
      "5009                     58146              13442.0        5789.000000   \n",
      "5010                     47616              11707.0        4076.000000   \n",
      "5011                     53469               6571.0        4003.438441   \n",
      "5012                     52408               6996.0        4816.000000   \n",
      "5013                     56417              10129.0        4767.000000   \n",
      "5014                     59051              11019.0        2754.000000   \n",
      "5015                     62932               6767.0        4918.000000   \n",
      "5016                     66597              12563.0        3808.000000   \n",
      "5017                     48172               6402.0        4680.000000   \n",
      "5018                     51269               8164.0        5800.000000   \n",
      "5019                     44665              10845.0        4931.000000   \n",
      "5020                     56691              13924.0        3915.000000   \n",
      "5021                     45581              14500.0        4515.000000   \n",
      "5022                     45337              12817.0        5167.000000   \n",
      "5023                     43813               6702.0        3100.000000   \n",
      "5024                     37406               6826.0        3182.000000   \n",
      "5025                     48608               9849.0        4387.000000   \n",
      "5026                     36864               8806.0        3745.000000   \n",
      "5027                     36811               9246.0        2998.000000   \n",
      "5028                     47845               9955.0        6010.000000   \n",
      "5029                     38515              14422.0        4453.000000   \n",
      "\n",
      "      Infrastructure Score  Student-Teacher Ratio  Average Academic Score (%)  \\\n",
      "5000             93.610754              17.920895                   59.394380   \n",
      "5001             68.800592              29.753288                   73.937426   \n",
      "5002             66.738844              22.403344                   49.400081   \n",
      "5003             61.871771              18.495236                   53.194660   \n",
      "5004             80.273645              21.602562                   72.442625   \n",
      "5005             49.318166              26.794629                   51.879955   \n",
      "5006             48.902090              13.893781                   57.768272   \n",
      "5007             59.080930              21.488235                   91.863491   \n",
      "5008             74.593223              22.079939                   67.490707   \n",
      "5009             64.861030              29.266225                   66.184812   \n",
      "5010             64.103651              23.309990                   61.266176   \n",
      "5011             74.285851              25.622571                   54.315428   \n",
      "5012            100.000000              24.847279                   70.769455   \n",
      "5013             79.589705              27.664509                   78.373120   \n",
      "5014             86.027427              17.330314                   75.911075   \n",
      "5015             85.317810              33.066616                   69.962851   \n",
      "5016             85.700996              35.619840                   58.582129   \n",
      "5017             63.174251              27.393683                   45.079597   \n",
      "5018             58.074945              23.636923                   51.339388   \n",
      "5019             72.181511              21.274037                   52.695654   \n",
      "5020             49.702551              14.333978                   39.017912   \n",
      "5021             63.570945              23.651493                   77.153374   \n",
      "5022             77.565663              28.414633                   66.840552   \n",
      "5023             69.064963              20.843337                   73.690832   \n",
      "5024             72.124142              20.251081                   63.858133   \n",
      "5025             67.211355              27.077856                   75.484399   \n",
      "5026             75.395437              19.741752                   77.139642   \n",
      "5027            100.000000              29.723776                   69.817080   \n",
      "5028             97.198924              23.513326                   62.913544   \n",
      "5029             77.137964              23.851097                   70.501132   \n",
      "\n",
      "      Total Enrolled Students  Scholarship % Availability  \\\n",
      "5000                      526                    2.517435   \n",
      "5001                     1914                   15.403876   \n",
      "5002                      183                   12.562471   \n",
      "5003                      934                    9.326341   \n",
      "5004                      963                   21.194701   \n",
      "5005                     1600                   20.213952   \n",
      "5006                      250                    9.224226   \n",
      "5007                     1752                   10.362263   \n",
      "5008                      938                   21.290944   \n",
      "5009                      650                   14.172760   \n",
      "5010                      877                   19.679181   \n",
      "5011                      723                   23.971254   \n",
      "5012                     1915                   19.695000   \n",
      "5013                     1190                    4.663064   \n",
      "5014                      610                   18.992766   \n",
      "5015                     1340                   15.921081   \n",
      "5016                     1562                   16.369498   \n",
      "5017                     1943                    8.898441   \n",
      "5018                     1049                   20.027736   \n",
      "5019                     1060                   22.372631   \n",
      "5020                     1853                    5.562598   \n",
      "5021                     1045                   15.271705   \n",
      "5022                     1734                    1.705834   \n",
      "5023                     1811                   19.138812   \n",
      "5024                      165                    9.054899   \n",
      "5025                     1976                   28.854020   \n",
      "5026                     1182                   15.790019   \n",
      "5027                      111                   14.418496   \n",
      "5028                     1154                   11.851986   \n",
      "5029                     1993                   19.480613   \n",
      "\n",
      "      Technology Access Index  Fee Increase % (YoY)  \n",
      "5000                84.115493              7.060873  \n",
      "5001                71.076634              2.723916  \n",
      "5002                40.163576              7.664555  \n",
      "5003                59.755316              6.515726  \n",
      "5004                42.587204              3.990237  \n",
      "5005                61.133266              2.950070  \n",
      "5006                59.755316              8.549848  \n",
      "5007                67.041269              7.666409  \n",
      "5008                35.471571              4.919076  \n",
      "5009                63.238294              1.712719  \n",
      "5010                86.904809              3.285966  \n",
      "5011                51.483960             11.339642  \n",
      "5012                52.915689              5.812030  \n",
      "5013                79.857446              4.444602  \n",
      "5014                81.491940              4.149195  \n",
      "5015                56.790207              6.569420  \n",
      "5016                32.581455              6.053528  \n",
      "5017                59.520629              3.336722  \n",
      "5018                92.883219              6.059858  \n",
      "5019                44.703217              6.992089  \n",
      "5020                41.063467              7.394282  \n",
      "5021                91.530864              8.634631  \n",
      "5022                75.804193              7.108983  \n",
      "5023                56.595670              7.148413  \n",
      "5024                45.534970              5.294499  \n",
      "5025                49.415183              5.487191  \n",
      "5026                36.325943              3.078055  \n",
      "5027                49.948268              6.833327  \n",
      "5028                59.755316              4.806185  \n",
      "5029                59.338691              6.339958  \n",
      "Total duplicate rows: 30\n"
     ]
    }
   ],
   "source": [
    "# Find and display duplicates\n",
    "duplicates = df[df.duplicated()]\n",
    "print(duplicates)\n",
    "print(\"Total duplicate rows:\", len(duplicates))\n"
   ]
  },
  {
   "cell_type": "code",
   "execution_count": 7,
   "id": "8b104f86",
   "metadata": {},
   "outputs": [
    {
     "name": "stdout",
     "output_type": "stream",
     "text": [
      "Number of duplicate rows: 30\n"
     ]
    }
   ],
   "source": [
    "import pandas as pd\n",
    "\n",
    "# Load your CSV file\n",
    "df = pd.read_csv(\"Anupama_Wrangled_School_Fee_Dataset.csv\")  # replace with your actual file name\n",
    "\n",
    "\n",
    "\n",
    "# Step 2: Count number of duplicates\n",
    "print(\"Number of duplicate rows:\", duplicates.shape[0])\n",
    "\n",
    "# Step 3: Remove duplicates\n",
    "df = df.drop_duplicates()\n",
    "\n",
    "# Step 4: Save the cleaned data back to CSV\n",
    "df.to_csv(\"cleaned_data.csv\", index=False)\n"
   ]
  },
  {
   "cell_type": "code",
   "execution_count": 8,
   "id": "79e3f297",
   "metadata": {},
   "outputs": [
    {
     "name": "stdout",
     "output_type": "stream",
     "text": [
      "Empty DataFrame\n",
      "Columns: [Annual Tuition Fee (NPR), Admission Fee (NPR), Monthly Fee (NPR), Infrastructure Score, Student-Teacher Ratio, Average Academic Score (%), Total Enrolled Students, Scholarship % Availability, Technology Access Index, Fee Increase % (YoY)]\n",
      "Index: []\n",
      "Total duplicate rows: 0\n"
     ]
    }
   ],
   "source": [
    "# Find and display duplicates\n",
    "duplicates = df[df.duplicated()]\n",
    "print(duplicates)\n",
    "print(\"Total duplicate rows:\", len(duplicates))\n"
   ]
  },
  {
   "cell_type": "code",
   "execution_count": 9,
   "id": "8cef7a99",
   "metadata": {},
   "outputs": [
    {
     "name": "stdout",
     "output_type": "stream",
     "text": [
      "Outliers detected: 50\n"
     ]
    }
   ],
   "source": [
    "# Step 1: Calculate IQR\n",
    "Q1 = df['Annual Tuition Fee (NPR)'].quantile(0.25)\n",
    "Q3 = df['Annual Tuition Fee (NPR)'].quantile(0.75)\n",
    "IQR = Q3 - Q1\n",
    "\n",
    "# Step 2: Define lower and upper bounds\n",
    "lower_bound = Q1 - 1.5 * IQR\n",
    "upper_bound = Q3 + 1.5 * IQR\n",
    "\n",
    "# Step 3: Find outliers\n",
    "outliers = df[(df['Annual Tuition Fee (NPR)'] < lower_bound) | \n",
    "              (df['Annual Tuition Fee (NPR)'] > upper_bound)]\n",
    "print(\"Outliers detected:\", len(outliers))"
   ]
  },
  {
   "cell_type": "code",
   "execution_count": 10,
   "id": "df4148ce",
   "metadata": {},
   "outputs": [],
   "source": [
    "# Calculate IQR and boundaries\n",
    "Q1 = df['Annual Tuition Fee (NPR)'].quantile(0.25)\n",
    "Q3 = df['Annual Tuition Fee (NPR)'].quantile(0.75)\n",
    "IQR = Q3 - Q1\n",
    "lower_bound = Q1 - 1.5 * IQR\n",
    "upper_bound = Q3 + 1.5 * IQR\n",
    "\n",
    "# Cap outliers\n",
    "df['Annual Tuition Fee (NPR)'] = df['Annual Tuition Fee (NPR)'].clip(lower=lower_bound, upper=upper_bound)\n"
   ]
  },
  {
   "cell_type": "code",
   "execution_count": 11,
   "id": "81e8e5e0",
   "metadata": {},
   "outputs": [],
   "source": [
    "df.to_csv('cleaned_data.csv', index=False)\n"
   ]
  },
  {
   "cell_type": "code",
   "execution_count": 12,
   "id": "b544d22a",
   "metadata": {},
   "outputs": [
    {
     "name": "stdout",
     "output_type": "stream",
     "text": [
      "Outliers detected: 0\n"
     ]
    }
   ],
   "source": [
    "# Step 1: Calculate IQR\n",
    "Q1 = df['Annual Tuition Fee (NPR)'].quantile(0.25)\n",
    "Q3 = df['Annual Tuition Fee (NPR)'].quantile(0.75)\n",
    "IQR = Q3 - Q1\n",
    "\n",
    "# Step 2: Define lower and upper bounds\n",
    "lower_bound = Q1 - 1.5 * IQR\n",
    "upper_bound = Q3 + 1.5 * IQR\n",
    "\n",
    "# Step 3: Find outliers\n",
    "outliers = df[(df['Annual Tuition Fee (NPR)'] < lower_bound) | \n",
    "              (df['Annual Tuition Fee (NPR)'] > upper_bound)]\n",
    "print(\"Outliers detected:\", len(outliers))"
   ]
  },
  {
   "cell_type": "code",
   "execution_count": 13,
   "id": "e36ff0d1",
   "metadata": {},
   "outputs": [
    {
     "name": "stdout",
     "output_type": "stream",
     "text": [
      "3100.0\n"
     ]
    }
   ],
   "source": [
    "import numpy as np\n",
    "score = [3000, 3200, 3100, 2900, 3300, 3400, 3100]\n",
    "print(np.median(score))\n"
   ]
  },
  {
   "cell_type": "code",
   "execution_count": 14,
   "id": "c93086d3",
   "metadata": {},
   "outputs": [
    {
     "name": "stdout",
     "output_type": "stream",
     "text": [
      "0    40\n",
      "1    50\n",
      "2    55\n",
      "3    60\n",
      "4    65\n",
      "5    70\n",
      "6    75\n",
      "7    80\n",
      "dtype: int64\n"
     ]
    }
   ],
   "source": [
    "import pandas as pd \n",
    "b=[40,50,60,70,80,55,65,75]\n",
    "print(pd.Series(b).mode())"
   ]
  },
  {
   "cell_type": "code",
   "execution_count": 15,
   "id": "7f6aff43",
   "metadata": {},
   "outputs": [
    {
     "name": "stdout",
     "output_type": "stream",
     "text": [
      "0    2\n",
      "dtype: int64\n"
     ]
    }
   ],
   "source": [
    "# import numpy as np\n",
    "import pandas as pd \n",
    "\n",
    "a = [1, 2, 2, 3, 2, 1, 3, 4, 1, 2]\n",
    "print(pd.Series(a).mode()) "
   ]
  },
  {
   "cell_type": "code",
   "execution_count": 16,
   "id": "8d2b7dbc",
   "metadata": {},
   "outputs": [
    {
     "name": "stdout",
     "output_type": "stream",
     "text": [
      "1.4142135623730951\n",
      "80.0\n"
     ]
    }
   ],
   "source": [
    "import numpy as np\n",
    "import pandas as pd\n",
    "data=[80,82,78,79,81]\n",
    "print(np.std(data))\n",
    "print(np.mean(data))"
   ]
  },
  {
   "cell_type": "code",
   "execution_count": 17,
   "id": "3234283b",
   "metadata": {},
   "outputs": [
    {
     "name": "stdout",
     "output_type": "stream",
     "text": [
      "66.0\n",
      "27.27636339397171\n"
     ]
    }
   ],
   "source": [
    "a=[40,90,70,100,30]\n",
    "print(np.mean(a))\n",
    "print(np.std(a))"
   ]
  },
  {
   "cell_type": "code",
   "execution_count": 18,
   "id": "7a98da48",
   "metadata": {},
   "outputs": [],
   "source": [
    "#z=(M-mean)/SD   greater value of z =better\n",
    "#Standard score \n",
    "\n"
   ]
  },
  {
   "cell_type": "code",
   "execution_count": 21,
   "id": "9e618c40",
   "metadata": {},
   "outputs": [],
   "source": [
    "import pandas as pd\n",
    "from word2number import w2n\n",
    "\n",
    "# Sample DataFrame\n",
    "# df = pd.DataFrame({'Monthly Fee (NPR)': ['two thousand', '1500', 'five hundred', '3000', 'one thousand five hundred']})\n",
    "\n",
    "def convert_to_number(value):\n",
    "    try:\n",
    "        return w2n.word_to_num(value)\n",
    "    except:\n",
    "        try:\n",
    "            return float(value)  # Try converting directly if it's already a number\n",
    "        except:\n",
    "            return None  # Set invalid entries to None/NaN\n",
    "\n",
    "df['Monthly Fee (NPR)'] = df['Monthly Fee (NPR)'].astype(str).apply(convert_to_number)\n",
    "df.to_csv('cleaned_data.csv', index=False)\n"
   ]
  },
  {
   "cell_type": "code",
   "execution_count": 22,
   "id": "6deb14c6",
   "metadata": {},
   "outputs": [
    {
     "name": "stdout",
     "output_type": "stream",
     "text": [
      "0       4791\n",
      "1       2414\n",
      "2       4587\n",
      "3       2812\n",
      "4       4069\n",
      "        ... \n",
      "4995    4344\n",
      "4996    3399\n",
      "4997    5712\n",
      "4998    6150\n",
      "4999    3621\n",
      "Name: Monthly Fee (NPR), Length: 5000, dtype: int64\n",
      "      Annual Tuition Fee (NPR)  Admission Fee (NPR)  Monthly Fee (NPR)  \\\n",
      "0                      82482.0               6081.0               4791   \n",
      "1                      57537.0               9528.0               2414   \n",
      "2                      60895.0              11703.0               4587   \n",
      "3                      56045.0              10749.0               2812   \n",
      "4                      57813.0               7572.0               4069   \n",
      "...                        ...                  ...                ...   \n",
      "4995                   62255.0               9862.0               4344   \n",
      "4996                   73460.0              10156.0               3399   \n",
      "4997                   41057.0              12408.0               5712   \n",
      "4998                   68037.0              13032.0               6150   \n",
      "4999                   34735.0              10393.0               3621   \n",
      "\n",
      "      Infrastructure Score  Student-Teacher Ratio  Average Academic Score (%)  \\\n",
      "0                67.355417              24.763882                   43.010202   \n",
      "1                82.021666              26.877273                   74.960490   \n",
      "2                65.342074              21.320504                   52.885767   \n",
      "3                53.183006              19.490332                   70.146512   \n",
      "4                68.262930              21.781429                   69.502511   \n",
      "...                    ...                    ...                         ...   \n",
      "4995             71.853642              27.245062                   58.082812   \n",
      "4996             77.481103              27.069555                   85.485410   \n",
      "4997             59.280087              19.410893                   35.937824   \n",
      "4998            100.000000              24.233798                   71.512980   \n",
      "4999             57.320803              32.270180                   75.322501   \n",
      "\n",
      "      Total Enrolled Students  Scholarship % Availability  \\\n",
      "0                         803                    9.123923   \n",
      "1                         784                   14.285309   \n",
      "2                        1219                   24.806959   \n",
      "3                         670                    9.449591   \n",
      "4                         978                   10.560794   \n",
      "...                       ...                         ...   \n",
      "4995                      128                   17.962624   \n",
      "4996                     1815                   15.248509   \n",
      "4997                     1747                   15.265349   \n",
      "4998                     1599                   19.973720   \n",
      "4999                     1237                   11.060380   \n",
      "\n",
      "      Technology Access Index  Fee Increase % (YoY)      mean  \n",
      "0                   67.563614              6.850065  4001.553  \n",
      "1                   64.992531              9.165515  4001.553  \n",
      "2                   81.000760              1.437808  4001.553  \n",
      "3                    0.000000              5.722339  4001.553  \n",
      "4                   86.118241              3.929418  4001.553  \n",
      "...                       ...                   ...       ...  \n",
      "4995                29.085107             -1.064170  4001.553  \n",
      "4996                68.562484              5.466411  4001.553  \n",
      "4997                77.847368              6.534230  4001.553  \n",
      "4998                61.469011              4.915410  4001.553  \n",
      "4999                79.620613              5.164974  4001.553  \n",
      "\n",
      "[5000 rows x 11 columns]\n"
     ]
    }
   ],
   "source": [
    "import pandas as pd\n",
    "import numpy as np\n",
    "df = pd.read_csv('cleaned_data.csv')\n",
    "print(df['Monthly Fee (NPR)'])\n",
    "\n",
    "df['mean'] = df['Monthly Fee (NPR)'].mean()\n",
    "print(df)\n",
    "#print(\"Mean of amount:\", np.mean(df['Monthly Fee (NPR)']))\n",
    "#print(\"Standard Deviation :\", np.std(df['Monthly Fee (NPR)']))\n",
    "# print(\"Mean of transaction amount:\", np.mean(df['transaction_amount']))"
   ]
  }
 ],
 "metadata": {
  "kernelspec": {
   "display_name": "broadwayenv",
   "language": "python",
   "name": "python3"
  },
  "language_info": {
   "codemirror_mode": {
    "name": "ipython",
    "version": 3
   },
   "file_extension": ".py",
   "mimetype": "text/x-python",
   "name": "python",
   "nbconvert_exporter": "python",
   "pygments_lexer": "ipython3",
   "version": "3.13.3"
  }
 },
 "nbformat": 4,
 "nbformat_minor": 5
}
