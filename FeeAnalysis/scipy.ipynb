{
 "cells": [
  {
   "cell_type": "code",
   "execution_count": 5,
   "id": "656847b4",
   "metadata": {},
   "outputs": [
    {
     "name": "stdout",
     "output_type": "stream",
     "text": [
      "3.141592653589793\n"
     ]
    }
   ],
   "source": [
    "from scipy import constants\n",
    "print(constants.pi)"
   ]
  },
  {
   "cell_type": "code",
   "execution_count": 6,
   "id": "87db4900",
   "metadata": {},
   "outputs": [
    {
     "name": "stdout",
     "output_type": "stream",
     "text": [
      "1e-18\n"
     ]
    }
   ],
   "source": [
    "print(constants.atto)"
   ]
  },
  {
   "cell_type": "markdown",
   "id": "a8cda481",
   "metadata": {},
   "source": [
    "Chi-Square Goodness of Fit Test — tests if a distribution fits an expected distribution.\n",
    "\n",
    "Chi-Square Test of Independence — tests if two categorical variables are independent (used with a contingency table)."
   ]
  },
  {
   "cell_type": "code",
   "execution_count": 22,
   "id": "109e8eed",
   "metadata": {},
   "outputs": [
    {
     "name": "stdout",
     "output_type": "stream",
     "text": [
      "Chi-square Statistic: 2.021182859506213\n",
      "p-value: 0.3640036333177266\n"
     ]
    }
   ],
   "source": [
    "from scipy.stats import chisquare\n",
    "\n",
    "# Use observed and expected frequencies (must be non-negative integers or floats, and sums must match)\n",
    "#  (Oi - Ei)² / Ei = χ²\n",
    "observed = [30, 40, 30]\n",
    "expected = [33.3, 33.3, 33.4]\n",
    "\n",
    "# Perform Chi-Square test\n",
    "chi2_stat, p_value = chisquare(f_obs=observed, f_exp=expected)\n",
    "\n",
    "print(\"Chi-square Statistic:\", chi2_stat)\n",
    "print(\"p-value:\", p_value)\n"
   ]
  },
  {
   "cell_type": "markdown",
   "id": "925c7c57",
   "metadata": {},
   "source": [
    "pearson= # r = ( Σ[(X_i - X̄) * (Y_i - Ȳ)] ) / sqrt( Σ[(X_i - X̄)^2] * Σ[(Y_i - Ȳ)^2] )\n",
    "\n",
    " Spearman's Rank Correlation Coefficient (rho or rs)\n",
    " rho = 1 - (6 * sum(d_i^2)) / (n * (n^2 - 1))\n",
    "\n",
    " where:\n",
    " d_i = difference between the ranks of X_i and Y_i\n",
    " n = number of observations"
   ]
  },
  {
   "cell_type": "code",
   "execution_count": 23,
   "id": "394c4ef5",
   "metadata": {},
   "outputs": [
    {
     "name": "stdout",
     "output_type": "stream",
     "text": [
      "Pearson correlation: 0.9894446543960717, p-value: 0.001299731753376982\n",
      "Spearman correlation: 0.9999999999999999, p-value: 1.4042654220543672e-24\n"
     ]
    }
   ],
   "source": [
    "from scipy.stats import pearsonr, spearmanr\n",
    "\n",
    "x = [10, 20, 30, 40, 50]\n",
    "y = [12, 24, 33, 48, 52]\n",
    "\n",
    "# Pearson correlation\n",
    "pearson_corr, pearson_p = pearsonr(x, y)\n",
    "print(f\"Pearson correlation: {pearson_corr}, p-value: {pearson_p}\")\n",
    "\n",
    "# Spearman correlation\n",
    "spearman_corr, spearman_p = spearmanr(x, y)\n",
    "print(f\"Spearman correlation: {spearman_corr}, p-value: {spearman_p}\")\n"
   ]
  },
  {
   "cell_type": "markdown",
   "id": "b0f54e30",
   "metadata": {},
   "source": [
    "Shapiro–Wilk test  - for performance analysi ie. bell shaped analysis (performance analysis)\n",
    "Purpose: To test if your data is approximately normally distributed (bell-shaped).\n",
    "\n",
    "Null Hypothesis (H0): The data is normally distributed.\n",
    "\n",
    "Alternative Hypothesis (H1): The data is NOT normally distributed.\n",
    "\n",
    "Output:\n",
    "\n",
    "W statistic: Measures how well the data fits a normal distribution.\n",
    "\n",
    "p-value: If p-value > significance level (e.g., 0.05), you fail to reject H0 (data looks normal). If p-value ≤ 0.05, data is likely NOT normal."
   ]
  },
  {
   "cell_type": "code",
   "execution_count": 24,
   "id": "e0d6bca1",
   "metadata": {},
   "outputs": [
    {
     "name": "stdout",
     "output_type": "stream",
     "text": [
      "Shapiro-Wilk Statistic: 0.9868\n",
      "p-value: 0.9672\n"
     ]
    }
   ],
   "source": [
    "from scipy.stats import shapiro\n",
    "\n",
    "# Example data\n",
    "data = [75, 80, 85, 90, 95]\n",
    "\n",
    "# Perform Shapiro-Wilk test\n",
    "stat, p_value = shapiro(data)\n",
    "\n",
    "print(f\"Shapiro-Wilk Statistic: {stat:.4f}\")\n",
    "print(f\"p-value: {p_value:.4f}\")"
   ]
  },
  {
   "cell_type": "code",
   "execution_count": 25,
   "id": "a4915601",
   "metadata": {},
   "outputs": [
    {
     "name": "stdout",
     "output_type": "stream",
     "text": [
      "Data looks Gaussian (normal distribution)\n"
     ]
    }
   ],
   "source": [
    "if p_value > 0.05:\n",
    "    print(\"Data looks Gaussian (normal distribution)\")\n",
    "else:\n",
    "    print(\"Data does NOT look Gaussian (not normal)\")"
   ]
  }
 ],
 "metadata": {
  "kernelspec": {
   "display_name": "broadwayenv",
   "language": "python",
   "name": "python3"
  },
  "language_info": {
   "codemirror_mode": {
    "name": "ipython",
    "version": 3
   },
   "file_extension": ".py",
   "mimetype": "text/x-python",
   "name": "python",
   "nbconvert_exporter": "python",
   "pygments_lexer": "ipython3",
   "version": "3.13.3"
  }
 },
 "nbformat": 4,
 "nbformat_minor": 5
}
