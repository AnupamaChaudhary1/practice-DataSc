{
 "cells": [
  {
   "cell_type": "code",
   "execution_count": null,
   "id": "a2dc6513",
   "metadata": {},
   "outputs": [
    {
     "name": "stdout",
     "output_type": "stream",
     "text": [
      "    maths   mean         SD   z-score\n",
      "0      93  69.62  18.138796  1.288950\n",
      "1      72  69.62  18.138796  0.131210\n",
      "2      52  69.62  18.138796 -0.971399\n",
      "3      80  69.62  18.138796  0.572254\n",
      "4      70  69.62  18.138796  0.020950\n",
      "5      57  69.62  18.138796 -0.695746\n",
      "6      92  69.62  18.138796  1.233819\n",
      "7      39  69.62  18.138796 -1.688094\n",
      "8      60  69.62  18.138796 -0.530355\n",
      "9      67  69.62  18.138796 -0.144442\n",
      "10     53  69.62  18.138796 -0.916268\n",
      "11     90  69.62  18.138796  1.123559\n",
      "12     45  69.62  18.138796 -1.357312\n",
      "13     37  69.62  18.138796 -1.798355\n",
      "14     63  69.62  18.138796 -0.364964\n",
      "15     48  69.62  18.138796 -1.191920\n",
      "16     94  69.62  18.138796  1.344080\n",
      "17     90  69.62  18.138796  1.123559\n",
      "18     72  69.62  18.138796  0.131210\n",
      "19     47  69.62  18.138796 -1.247051\n",
      "20     51  69.62  18.138796 -1.026529\n",
      "21     71  69.62  18.138796  0.076080\n",
      "22     91  69.62  18.138796  1.178689\n",
      "23     99  69.62  18.138796  1.619733\n",
      "24     64  69.62  18.138796 -0.309833\n",
      "25     55  69.62  18.138796 -0.806007\n",
      "26     79  69.62  18.138796  0.517124\n",
      "27     75  69.62  18.138796  0.296602\n",
      "28     96  69.62  18.138796  1.454341\n",
      "29     78  69.62  18.138796  0.461993\n",
      "30     96  69.62  18.138796  1.454341\n",
      "31     42  69.62  18.138796 -1.522703\n",
      "32     54  69.62  18.138796 -0.861138\n",
      "33     66  69.62  18.138796 -0.199572\n",
      "34     71  69.62  18.138796  0.076080\n",
      "35     87  69.62  18.138796  0.958167\n",
      "36     95  69.62  18.138796  1.399211\n",
      "37     71  69.62  18.138796  0.076080\n",
      "38     68  69.62  18.138796 -0.089311\n",
      "39     90  69.62  18.138796  1.123559\n",
      "40     91  69.62  18.138796  1.178689\n",
      "41     67  69.62  18.138796 -0.144442\n",
      "42     86  69.62  18.138796  0.903037\n",
      "43     43  69.62  18.138796 -1.467573\n",
      "44     54  69.62  18.138796 -0.861138\n",
      "45     53  69.62  18.138796 -0.916268\n",
      "46     52  69.62  18.138796 -0.971399\n",
      "47     54  69.62  18.138796 -0.861138\n",
      "48     95  69.62  18.138796  1.399211\n",
      "49     66  69.62  18.138796 -0.199572\n",
      "50      5  69.62  18.138796 -3.562530\n"
     ]
    }
   ],
   "source": [
    "import numpy as np\n",
    "import pandas as pd\n",
    "scores_a=np.random.randint(35,100, size=50)\n",
    "scores_pd=pd.Series(scores_a)\n",
    "df=pd.DataFrame(scores_a, columns=['maths'])\n",
    "# SD and mean\n",
    "mean_a=df['maths'].mean()\n",
    "std_a=df['maths'].std()\n",
    "\n",
    "# outlier check\n",
    "df.loc[len(df)]=5\n",
    "\n",
    "#calculate z-score\n",
    "df['mean']=mean_a\n",
    "df['SD']=std_a\n",
    "df['z-score']=(df['maths']-mean_a)/std_a\n",
    "\n",
    "print(df)\n",
    "#z-test is used when sample size is large > 30 compare all data\n",
    "#t-test when less than 30 used to compare means only and determine if the difference between them are statistically signigifant\n"
   ]
  },
  {
   "cell_type": "markdown",
   "id": "29d3419d",
   "metadata": {},
   "source": [
    "types of t-test\n",
    "1. one sample t-test\n",
    "   compare a mean of a single sample to already known value\n",
    "2. two sample test-two independent means\n",
    "3. paired sample t-test\n",
    "   compares means of same group at different time\n",
    "   eg test score before of after a workshop\n",
    "key concepts\n",
    "null(H0): no difference beteween mean\n",
    "and alternative hypothesis(H1): if there is difference between means\n",
    "\n",
    "typically reject null hypethesis if p<0.05\n",
    "\n",
    "t-test for 2 sample formula\n",
    "t=(x1-x2)/ sqrt of [(s1-squares)/n1 +(s2-squares)/n2 ]   where x1,x2 are the sample means\n",
    "n1,n2 are sample sizes\n",
    "s1 and s2 are SD\n",
    "\n",
    "chi-square test = find independence between \n",
    "pearson/spearman:  \n"
   ]
  },
  {
   "cell_type": "code",
   "execution_count": 18,
   "id": "d7b6876e",
   "metadata": {},
   "outputs": [
    {
     "name": "stdout",
     "output_type": "stream",
     "text": [
      "1.118033988749895\n",
      "8\n"
     ]
    }
   ],
   "source": [
    "import numpy as np\n",
    "import pandas as pd\n",
    "import math\n",
    "scores_a=[75,80,85,90,95]\n",
    "scores_b=[70,75,80,85,90]\n",
    "\n",
    "df=pd.DataFrame(scores_a, columns=['a_scores'])\n",
    "df=pd.DataFrame(scores_b, columns=['b_scores'])\n",
    "\n",
    "mean_a=np.mean(scores_a)\n",
    "std_a=np.std(scores_a)\n",
    "\n",
    "mean_b=np.mean(scores_b)\n",
    "std_b=np.std(scores_b)\n",
    "\n",
    "var_a=np.var(scores_a)\n",
    "var_b=np.var(scores_b)\n",
    "n1=len(scores_a)\n",
    "n2= len(scores_b)\n",
    "\n",
    "se= np.sqrt((var_a/n1) + (var_b)/n2)\n",
    "t_val=(mean_a-mean_b)/se\n",
    "print(t_val)\n",
    "\n",
    "# degree of freedom\n",
    "df=n1+n2-2\n",
    "\n",
    "# t-test for 2 sample formula\n",
    "# t=(x1-x2)/ sqrt of [(s1-squared(variance v1))/n1 +(s2-squares)/n2 ]   where x1,x2 are the sample means\n",
    "# n1,n2 are sample sizes\n",
    "# s1 and s2 are SD\n",
    "\n",
    "\n",
    "print(df)"
   ]
  },
  {
   "cell_type": "code",
   "execution_count": 4,
   "id": "53b159a2",
   "metadata": {},
   "outputs": [
    {
     "name": "stdout",
     "output_type": "stream",
     "text": [
      "1.15.3\n"
     ]
    }
   ],
   "source": [
    "import scipy\n",
    "print(scipy.__version__)"
   ]
  }
 ],
 "metadata": {
  "kernelspec": {
   "display_name": "broadwayenv",
   "language": "python",
   "name": "python3"
  },
  "language_info": {
   "codemirror_mode": {
    "name": "ipython",
    "version": 3
   },
   "file_extension": ".py",
   "mimetype": "text/x-python",
   "name": "python",
   "nbconvert_exporter": "python",
   "pygments_lexer": "ipython3",
   "version": "3.13.3"
  }
 },
 "nbformat": 4,
 "nbformat_minor": 5
}
