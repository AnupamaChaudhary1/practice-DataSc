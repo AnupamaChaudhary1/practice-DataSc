{
 "cells": [
  {
   "cell_type": "markdown",
   "id": "a56667a8",
   "metadata": {},
   "source": [
    "Machine Learning: Imagine teaching a child to recognize fruits. Instead of giving a fixed rule like \" If it is red and round, its an apple.\", we may show child many pictures of apples, bananas and oranges. Over the time, child learns patterns and can recognize fruits even if he exact rules are not clear. This is wahat ML does for computers.\n",
    "- ML is a field of cs that gives computers the ability to learn from data and improve their performancce over time without being ecplicitly programmed for every single task.\n",
    "- real life eg: \n",
    " - email spam filter: learns patterns form spam emails and blocks them\n",
    " - google maps: predicts traffic condition\n",
    " - social media: Suggests friends and content based on our activity\n",
    " - Banking: detects fraudelent transactions.\n",
    "\n",
    "- How ML work?\n",
    "- 1. collect data: for example, student scores.\n",
    "  2. train model: feed this data to an algorithm\n",
    "  3. Learn patterns: algorithm finds trends and relationships.\n",
    "  4. make predictions: given new data, it gguesses the outcomes.\n",
    "\n",
    "ML Workflow:\n",
    "- 1. define the problem\n",
    "  2. collect and clean the data\n",
    "  3. EDA\n",
    "  4. choosed ML model (regression, decision tree)\n",
    "  5. Train the model\n",
    "  6. Evluate the model\n",
    "  7. deploy and improve\n",
    "\n"
   ]
  },
  {
   "cell_type": "markdown",
   "id": "6cb57b69",
   "metadata": {},
   "source": [
    "Core concepts of ML\n",
    "1. Data\n",
    "2. Features: individual measurable properties or characteristics(age, income)\n",
    "3. Labels/ Target: outcome we want to predict\n",
    "4. Model: a function or system that makes prediction\n",
    "5. Training: process of learning patterns from data\n",
    "6. Testing: validating how well the model performs on unseen data\n",
    "7. Evluation and metrice: accuracy, precision etc."
   ]
  },
  {
   "cell_type": "markdown",
   "id": "e3deefee",
   "metadata": {},
   "source": [
    "1. Supervised Learning: In this the model is trained on a labeled dataset. it means for every input, ew already know desired output. \n",
    "- use cases: \n",
    " - predicting house prices: (regression)\n",
    " - email spam detection (classification)\n",
    " - student performance prediction\n",
    " - stock price forecasting\n",
    "Algorithms:\n",
    " - Linear regression\n",
    " - logistic regression\n",
    " - decision trees\n",
    " - SVM\n",
    " - KNN(k nearest neighbors)\n",
    " \n",
    "2. Unsupervised Learning: the model is trained on data without labels. It tries to find patterns or structures in the data.\n",
    "Use Cases:\n",
    " - customer segmentation\n",
    " - market basket analysis\n",
    " - organizing new articles\n",
    " \n",
    "Algorithms\n",
    " - k-means clustering\n",
    " - principle component analysis(PCA)\n",
    " \n"
   ]
  },
  {
   "cell_type": "markdown",
   "id": "8886d4b0",
   "metadata": {},
   "source": [
    "* Clustering, classification and regression are thre core problem types in ML.\n",
    "1. Classification is about predicting a label or category.\n",
    "Eg: sorting emails into different mailboxes - each mailbox is a level ('spam' or 'not spam')\n",
    "   - spam or not spam\n",
    "   - disease diagnosis: positive or negative\n",
    "   - student performance: pass or fail\n",
    "\n",
    "Key characteristica\n",
    " - outpur is ccategorical (binary, or multi-class)\n",
    " - algorithms: logistic, decision trees, random forest, SVM, KNN"
   ]
  },
  {
   "cell_type": "code",
   "execution_count": 1,
   "id": "6bc64c88",
   "metadata": {},
   "outputs": [
    {
     "name": "stdout",
     "output_type": "stream",
     "text": [
      "    maths  science  english\n",
      "95     48       88       87\n",
      "94     78       68       69\n",
      "45     48       67       79\n",
      "65     52       37       65\n",
      "90     67       72       82\n",
      "..    ...      ...      ...\n",
      "32     95       46       73\n",
      "87     79       89       84\n",
      "63     89       86       70\n",
      "79     63       74       69\n",
      "5      51       86       75\n",
      "\n",
      "[80 rows x 3 columns]\n",
      "    maths  science  english\n",
      "77     87       37       77\n",
      "34     72       78       78\n",
      "49     87       52       69\n",
      "8      40       81       63\n",
      "73     55       76       70\n",
      "52     48       59       78\n",
      "31     89       43       95\n",
      "71     81       89       99\n",
      "33     70       47       66\n",
      "75     44       57       65\n",
      "84     62       52       85\n",
      "97     74       45       88\n",
      "55     43       55       78\n",
      "86     43       55       96\n",
      "80     47       83       76\n",
      "6      45       63       99\n",
      "92     97       84       53\n",
      "82     65       50       72\n",
      "91     77       48       69\n",
      "18     77       91       55\n",
      "Accuracy 1.0\n",
      "Predicted Class: [1]\n"
     ]
    },
    {
     "name": "stderr",
     "output_type": "stream",
     "text": [
      "c:\\Users\\A C E R\\Desktop\\DS\\broadwayenv\\Lib\\site-packages\\sklearn\\utils\\validation.py:2749: UserWarning: X does not have valid feature names, but LogisticRegression was fitted with feature names\n",
      "  warnings.warn(\n",
      "c:\\Users\\A C E R\\Desktop\\DS\\broadwayenv\\Lib\\site-packages\\sklearn\\utils\\validation.py:2749: UserWarning: X does not have valid feature names, but LogisticRegression was fitted with feature names\n",
      "  warnings.warn(\n"
     ]
    }
   ],
   "source": [
    "# Classificaton of students into above average or below average\n",
    "import pandas as pd\n",
    "import numpy as np\n",
    "from sklearn.model_selection import train_test_split\n",
    "from sklearn.linear_model import LogisticRegression\n",
    "np.random.seed(1)\n",
    "data=pd.DataFrame({\n",
    "    'maths':np.random.randint(40,100,100),\n",
    "    'science':np.random.randint(35,95,100),\n",
    "    'english': np.random.randint(50,100,100)\n",
    "})\n",
    "data['average']=data.mean(axis=1)\n",
    "data['result']=data['average'].apply(lambda x:1 if x> 65 else 0)\n",
    "X=data[['maths','science','english']]\n",
    "y=data['result']\n",
    "X_train,X_test, y_train, y_test=train_test_split(X,y, test_size=0.2)\n",
    "print(X_train)\n",
    "print(X_test)\n",
    "\n",
    "model=LogisticRegression()\n",
    "model.fit(X_train,y_train)\n",
    "print(\"Accuracy\", model.score(X_test,y_test))\n",
    "\n",
    "new_student=[[73,65,80]]\n",
    "# predict\n",
    "predction=model.predict(new_student)\n",
    "probability=model.predict_proba(new_student)\n",
    "print('Predicted Class:', predction)\n"
   ]
  },
  {
   "cell_type": "markdown",
   "id": "95eb528b",
   "metadata": {},
   "source": [
    "Regression: it is about predictiong a continous value. \n",
    "- predicting house price based on area and location, the answer is a number not a label or category.\n",
    "- eg: predictiong student marks, forecasting sales, estimating salary\n",
    "\n",
    "Key characteristics:\n",
    "- output is numeric or continuous\n",
    "- Algorithm: linear, svr, decision tree \n",
    "\n",
    "Clustering: it is about grouping data based on similarity - no predefined labels.\n",
    "- grouping students who perform similarly, without knowing their grades.\n",
    "- eg: grouping customers by purchasing behavior\n",
    "- markets segmentation\n",
    "- clustereing students by student habits\n",
    " \n",
    "Key characteristics\n",
    "- output is group/cluster\n",
    "- unsupervised\n",
    "- Algorithm: k-means, DBSCAN, hierarchical clustering, PCA\n",
    "\n"
   ]
  },
  {
   "cell_type": "markdown",
   "id": "9e47a83c",
   "metadata": {},
   "source": [
    "- XGBoost: supervised \n",
    "- naive bays\n",
    "- Random Forest\n",
    "\n",
    "* Unsupervised Learning:\n",
    "- K-means: \n",
    "- gaussian:\n",
    "- DBSCAN:\n",
    "- PCA:\n",
    "\n",
    "* Eg: loan approval: supervied-> classification\n",
    "- house price prediction: regression(supervised)\n",
    "- spam detection: supervised - classification\n",
    "- top 5%, 1% employees based of performance:  unsupervised : clustering\n",
    "- grouping customers based on purchase behaviors: unsupervised- clustering\n",
    "\n",
    "supervised vs unsupervised  based on different term\n",
    "1. labelled data:              /  unlabelled \n",
    "2. goal: predict or classify   /  discover structure of patterns\n",
    "3. Output: known output        / unknown\n",
    "4. eg: spam detection          / customer segmentation\n",
    "\n",
    "- Loan approval: customer info-> approved or not/\n",
    "input=customer info and output = approved or not\n"
   ]
  },
  {
   "cell_type": "markdown",
   "id": "6d8ac79e",
   "metadata": {},
   "source": [
    "##### Linear Regression: is like finding the best straight line that fits a set of dots (data points). This helps us understand how one thing (like hours studied) affects other(exam scores).\n",
    "- Real Life Analogy: imagine you run a fruit ship. You record how hot that day was (temperature ) and how many lassi you sold. You notice.\n",
    "  - on hotter day, you sell more,\n",
    "  - on cooler day, y0u sell less.\n",
    "- Now the question is, \" Can I predict how many lassis  i will sell based on temperature.\" This is linear regression.\n",
    "\n",
    "Goal: minimize the total errer( distance betn points and line)\n",
    ">>> What is the Equation of the line?\n",
    "- The line in kinear regression is:  y=mx+c,   \n",
    " - y= predicted value (eg, exam score, total lassis)\n",
    " - x= input value(eg: hours studied, temperature)\n",
    " - m=slope: how much y changes when x increases\n",
    " - b=intercept: where the line crosses the y-axis (0,b)\n",
    "\n",
    ">>> Mode Training: How the line is learned?\n",
    "- We give the model a bunch of X and Y values by seperating x and y. \n",
    "- The model tries different slopes (m) and intercepts (b) \n",
    "- it calculates how wrong it is (ereror)\n",
    "- it adjusts m and b to make that error smaller.\n",
    "- after many tries, it finds the best-fit line that works the best with our data.\n",
    "\n",
    ">>> How do we know our model is good?\n",
    "- We evluate the model using:\n",
    " - R-squared/ Root mean squared error (RMSE)\n",
    " - mean squared error (MSE)\n",
    " - mean absolute error (MAE)\n",
    "\n",
    ">>> Why do we need error metrices?\n",
    "- When we make perdictions, we need to know how far off our predictions are from the actual values. These error metrices helps us to measure how good or bad our prediction model is.\n",
    "1. Mean absolute error (MAE): on average, how far are our predictions from the avtual values.\n",
    " - Formula: MAE=(|E1|+|E2|+.....+|En|)/n\n",
    "\n",
    "2. MSE: it also finds how far our predictions arem but it squares the errors before averaging. \n",
    "  - MSE=(E1^2+E2^2+.....+En^2)/2\n",
    "3. RMSE: Its just the square root of MSE. It gives the error score in the same units as our data.\n",
    " - RMSE= squr(MSE)\n",
    "\n"
   ]
  },
  {
   "cell_type": "code",
   "execution_count": 36,
   "id": "9a454dd3",
   "metadata": {},
   "outputs": [
    {
     "name": "stdout",
     "output_type": "stream",
     "text": [
      "  name  hours  score\n",
      "0    A      1     50\n",
      "1    B      2     55\n",
      "2    C      3     65\n",
      "3    D      4     70\n",
      "4    E      5     75\n",
      "6.500000000000001\n",
      "<class 'numpy.float64'>\n",
      "Slope: m> 6.500000000000001\n",
      "Intercept: b> 43.5\n",
      "The best line equation is y= 6.5x+43.5\n"
     ]
    }
   ],
   "source": [
    "# Linear Regression\n",
    "from sklearn.linear_model import LinearRegression\n",
    "import pandas as pd\n",
    "import matplotlib.pylab as plt\n",
    "\n",
    "#for errors\n",
    "from sklearn.metrics import mean_absolute_error, mean_squared_error\n",
    "\n",
    "# sample data\n",
    "data=pd.DataFrame({\n",
    "    'name':['A','B','C','D','E'],\n",
    "    'hours':[1,2,3,4,5],\n",
    "    'score':[50,55,65,70,75]\n",
    "})\n",
    "print(data)\n",
    "# seperate x and y\n",
    "X= data[['hours']]\n",
    "y=data['score']\n",
    "# Train the linear regression model\n",
    "model=LinearRegression()\n",
    "model.fit(X,y)\n",
    "m= model.coef_[0]\n",
    "print(m)\n",
    "b=model.intercept_\n",
    "print(type(m))\n",
    "print('Slope: m>',m)\n",
    "print('Intercept: b>', b)\n",
    "round\n",
    "print(f\"The best line equation is y= {round(m,5)}x+{b}\")"
   ]
  },
  {
   "cell_type": "code",
   "execution_count": null,
   "id": "c891d413",
   "metadata": {},
   "outputs": [
    {
     "name": "stderr",
     "output_type": "stream",
     "text": [
      "c:\\Users\\A C E R\\Desktop\\DS\\broadwayenv\\Lib\\site-packages\\sklearn\\utils\\validation.py:2749: UserWarning: X does not have valid feature names, but LinearRegression was fitted with feature names\n",
      "  warnings.warn(\n"
     ]
    },
    {
     "name": "stdout",
     "output_type": "stream",
     "text": [
      "[121.5]\n"
     ]
    },
    {
     "data": {
      "image/png": "[encoded data removed]",
      "text/plain": [
       "<Figure size 640x480 with 1 Axes>"
      ]
     },
     "metadata": {},
     "output_type": "display_data"
    }
   ],
   "source": [
    "#lets predict a value\n",
    "#for a student, who studies 12 hrs a day, what would be the score\n",
    "result=model.predict([[12]])\n",
    "print(result)\n",
    "\n",
    "# For visualization\n",
    "plt.scatter(X,y, color='blue', label='Actual Data')\n",
    "plt.plot(X, model.predict(X),color='red', label='Best Fit Line')\n",
    "plt.xlabel('Hours Studied')\n",
    "plt.ylabel('score')\n",
    "plt.title('Linear Regression: Best Fit Line')\n",
    "plt.legend()\n",
    "plt.grid()\n",
    "\n",
    "plt.show()"
   ]
  },
  {
   "cell_type": "code",
   "execution_count": 39,
   "id": "be9fff93",
   "metadata": {},
   "outputs": [
    {
     "name": "stdout",
     "output_type": "stream",
     "text": [
      "[50.  56.5 63.  69.5 76. ]\n",
      "MAE: 1.0\n",
      "MSE: 1.5\n",
      "RMSE: 1.224744871391589\n"
     ]
    }
   ],
   "source": [
    "import numpy as np\n",
    "predicted_values=model.predict(X)\n",
    "print(predicted_values)\n",
    "\n",
    "#Error calculaation\n",
    "mae=mean_absolute_error(y,predicted_values)\n",
    "mse=mean_squared_error(y,predicted_values)\n",
    "rmse=np.sqrt(mse)\n",
    "print('MAE:', mae)\n",
    "print('MSE:', mse)\n",
    "print('RMSE:', rmse)"
   ]
  },
  {
   "cell_type": "markdown",
   "id": "0ee4c633",
   "metadata": {},
   "source": [
    "1. Logistic Regression: is a way to predict categories or outcomes like 'yes' or 'no', 'pass or fail', or average/below average not numbers like in linear regression.\n",
    ">>> Characteristica:\n",
    " - predicts categorical classes\n",
    " - uses sigmoid s-curve\n",
    " - solves classification problems\n",
    " - predicts the probability of a binary outcome(yes/n, 0/1)\n",
    "- Logistic regression doesnt draw a straight line like linear regression. \n",
    "- If fits an S-shaped curve(sigmoid) that squashes the prediction between 0 and 1.\n",
    "- This number is interpreted as the probability of the success passing:\n",
    " - if probability > 0.5, we say student will pass (1)\n",
    " - if probability < 0.5, we say student will fail (0)\n",
    "  \n",
    "Equation: probability=1/(1+e^(mx+b))\n",
    " - where: e: euler's number (~2.718)\n",
    " - m: weight/slope\n",
    " - b: bias/ intercept\n",
    " - x: input feature\n",
    " This value will always return between 0 and 1. \n",
    "\n",
    "\n"
   ]
  },
  {
   "cell_type": "code",
   "execution_count": null,
   "id": "366a1541",
   "metadata": {},
   "outputs": [],
   "source": []
  }
 ],
 "metadata": {
  "kernelspec": {
   "display_name": "broadwayenv",
   "language": "python",
   "name": "python3"
  },
  "language_info": {
   "codemirror_mode": {
    "name": "ipython",
    "version": 3
   },
   "file_extension": ".py",
   "mimetype": "text/x-python",
   "name": "python",
   "nbconvert_exporter": "python",
   "pygments_lexer": "ipython3",
   "version": "3.13.3"
  }
 },
 "nbformat": 4,
 "nbformat_minor": 5
}
