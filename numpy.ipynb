{
 "cells": [
  {
   "cell_type": "code",
   "execution_count": null,
   "id": "f843dba0",
   "metadata": {},
   "outputs": [
    {
     "name": "stdout",
     "output_type": "stream",
     "text": [
      "[[51 92 14 71]\n",
      " [60 20 82 86]\n",
      " [74 74 87 99]\n",
      " [23  2 21 52]\n",
      " [ 1 87 29 37]\n",
      " [ 1 63 59 20]\n",
      " [32 75 57 21]\n",
      " [88 48 90 58]\n",
      " [41 91 59 79]\n",
      " [14 61 61 46]]\n"
     ]
    }
   ],
   "source": [
    "# Generate a 10x4 NumPy array of random scores\n",
    "import numpy as np\n",
    "np.random.seed(42)\n",
    "scores = np.random.randint(0, 101, size=(10, 4))\n",
    "print(scores)\n",
    "\n"
   ]
  },
  {
   "cell_type": "code",
   "execution_count": 1,
   "id": "b4279dc0",
   "metadata": {},
   "outputs": [
    {
     "name": "stdout",
     "output_type": "stream",
     "text": [
      "Total per student: [228 248 334  98 154 143 185 284 270 182]\n",
      "Average per student: [57.   62.   83.5  24.5  38.5  35.75 46.25 71.   67.5  45.5 ]\n"
     ]
    }
   ],
   "source": [
    "# Print average and total scores per student\n",
    "import numpy as np\n",
    "np.random.seed(42)\n",
    "scores = np.random.randint(0, 101, size=(10, 4))\n",
    "\n",
    "print(\"Total per student:\", scores.sum(axis=1))\n",
    "print(\"Average per student:\", scores.mean(axis=1))\n"
   ]
  },
  {
   "cell_type": "code",
   "execution_count": 3,
   "id": "f036c4ab",
   "metadata": {},
   "outputs": [
    {
     "name": "stdout",
     "output_type": "stream",
     "text": [
      "Topper: Student 3 with total score 334\n"
     ]
    }
   ],
   "source": [
    "# Identify topper (highest total)\n",
    "import numpy as np\n",
    "np.random.seed(42)\n",
    "scores = np.random.randint(0, 101, size=(10, 4))\n",
    "\n",
    "total_scores = scores.sum(axis=1)\n",
    "print(\"Topper: Student\", total_scores.argmax() + 1, \"with total score\", total_scores.max())\n",
    "\n"
   ]
  },
  {
   "cell_type": "code",
   "execution_count": 4,
   "id": "59f1c48b",
   "metadata": {},
   "outputs": [
    {
     "name": "stdout",
     "output_type": "stream",
     "text": [
      "Highest per subject: [88 92 90 99]\n",
      "Lowest per subject: [ 1  2 14 20]\n"
     ]
    }
   ],
   "source": [
    "# Print highest and lowest scorer per subject\n",
    "import numpy as np\n",
    "\n",
    "np.random.seed(42)\n",
    "scores = np.random.randint(0, 101, size=(10, 4))\n",
    "\n",
    "print(\"Highest per subject:\", scores.max(axis=0))\n",
    "print(\"Lowest per subject:\", scores.min(axis=0))\n"
   ]
  },
  {
   "cell_type": "code",
   "execution_count": 7,
   "id": "b520748d",
   "metadata": {},
   "outputs": [
    {
     "name": "stdout",
     "output_type": "stream",
     "text": [
      "Top 3 students: [3 8 9]\n",
      "Normalized scores of top 3:\n",
      " [[0.83908046 0.8        0.96052632 1.        ]\n",
      " [1.         0.51111111 1.         0.48101266]\n",
      " [0.45977011 0.98888889 0.59210526 0.74683544]]\n"
     ]
    }
   ],
   "source": [
    "# Normalize scores and show top 3 normalized students. Range: [0,1]\n",
    "import numpy as np\n",
    "\n",
    "np.random.seed(42)\n",
    "scores = np.random.randint(0, 101, size=(10, 4))\n",
    "\n",
    "norm = (scores - scores.min(0)) / np.ptp(scores, axis=0)\n",
    "top3 = np.argsort(norm.sum(1))[-3:][::-1]\n",
    "\n",
    "print(\"Top 3 students:\", top3 + 1)\n",
    "print(\"Normalized scores of top 3:\\n\", norm[top3])\n",
    "\n",
    "\n"
   ]
  },
  {
   "cell_type": "code",
   "execution_count": null,
   "id": "c9ead7f7",
   "metadata": {},
   "outputs": [],
   "source": []
  }
 ],
 "metadata": {
  "kernelspec": {
   "display_name": "Python (broadwayenv)",
   "language": "python",
   "name": "broadwayenv"
  },
  "language_info": {
   "codemirror_mode": {
    "name": "ipython",
    "version": 3
   },
   "file_extension": ".py",
   "mimetype": "text/x-python",
   "name": "python",
   "nbconvert_exporter": "python",
   "pygments_lexer": "ipython3",
   "version": "3.13.3"
  }
 },
 "nbformat": 4,
 "nbformat_minor": 5
}
