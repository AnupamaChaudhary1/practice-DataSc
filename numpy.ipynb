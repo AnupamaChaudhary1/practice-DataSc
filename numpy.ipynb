{
 "cells": [
  {
   "cell_type": "code",
   "execution_count": null,
   "id": "f843dba0",
   "metadata": {},
   "outputs": [
    {
     "name": "stdout",
     "output_type": "stream",
     "text": [
      "[[51 92 14 71]\n",
      " [60 20 82 86]\n",
      " [74 74 87 99]\n",
      " [23  2 21 52]\n",
      " [ 1 87 29 37]\n",
      " [ 1 63 59 20]\n",
      " [32 75 57 21]\n",
      " [88 48 90 58]\n",
      " [41 91 59 79]\n",
      " [14 61 61 46]]\n"
     ]
    }
   ],
   "source": [
    "# Generate a 10x4 NumPy array of random scores\n",
    "import numpy as np\n",
    "np.random.seed(42)\n",
    "scores = np.random.randint(0, 101, size=(10, 4))\n",
    "print(scores)\n",
    "\n"
   ]
  },
  {
   "cell_type": "code",
   "execution_count": 1,
   "id": "b4279dc0",
   "metadata": {},
   "outputs": [
    {
     "name": "stdout",
     "output_type": "stream",
     "text": [
      "Total per student: [228 248 334  98 154 143 185 284 270 182]\n",
      "Average per student: [57.   62.   83.5  24.5  38.5  35.75 46.25 71.   67.5  45.5 ]\n"
     ]
    }
   ],
   "source": [
    "# Print average and total scores per student\n",
    "import numpy as np\n",
    "np.random.seed(42)\n",
    "scores = np.random.randint(0, 101, size=(10, 4))\n",
    "\n",
    "print(\"Total per student:\", scores.sum(axis=1))\n",
    "print(\"Average per student:\", scores.mean(axis=1))\n"
   ]
  },
  {
   "cell_type": "code",
   "execution_count": 3,
   "id": "f036c4ab",
   "metadata": {},
   "outputs": [
    {
     "name": "stdout",
     "output_type": "stream",
     "text": [
      "Topper: Student 3 with total score 334\n"
     ]
    }
   ],
   "source": [
    "# Identify topper (highest total)\n",
    "import numpy as np\n",
    "np.random.seed(42)\n",
    "scores = np.random.randint(0, 101, size=(10, 4))\n",
    "\n",
    "total_scores = scores.sum(axis=1)\n",
    "print(\"Topper: Student\", total_scores.argmax() + 1, \"with total score\", total_scores.max())\n",
    "\n"
   ]
  },
  {
   "cell_type": "code",
   "execution_count": 4,
   "id": "59f1c48b",
   "metadata": {},
   "outputs": [
    {
     "name": "stdout",
     "output_type": "stream",
     "text": [
      "Highest per subject: [88 92 90 99]\n",
      "Lowest per subject: [ 1  2 14 20]\n"
     ]
    }
   ],
   "source": [
    "# Print highest and lowest scorer per subject\n",
    "import numpy as np\n",
    "\n",
    "np.random.seed(42)\n",
    "scores = np.random.randint(0, 101, size=(10, 4))\n",
    "\n",
    "print(\"Highest per subject:\", scores.max(axis=0))\n",
    "print(\"Lowest per subject:\", scores.min(axis=0))\n"
   ]
  },
  {
   "cell_type": "code",
   "execution_count": 7,
   "id": "b520748d",
   "metadata": {},
   "outputs": [
    {
     "name": "stdout",
     "output_type": "stream",
     "text": [
      "Top 3 students: [3 8 9]\n",
      "Normalized scores of top 3:\n",
      " [[0.83908046 0.8        0.96052632 1.        ]\n",
      " [1.         0.51111111 1.         0.48101266]\n",
      " [0.45977011 0.98888889 0.59210526 0.74683544]]\n"
     ]
    }
   ],
   "source": [
    "# Normalize scores and show top 3 normalized students. Range: [0,1]\n",
    "import numpy as np\n",
    "\n",
    "np.random.seed(42)\n",
    "scores = np.random.randint(0, 101, size=(10, 4))\n",
    "\n",
    "norm = (scores - scores.min(0)) / np.ptp(scores, axis=0)\n",
    "top3 = np.argsort(norm.sum(1))[-3:][::-1]\n",
    "\n",
    "print(\"Top 3 students:\", top3 + 1)\n",
    "print(\"Normalized scores of top 3:\\n\", norm[top3])\n",
    "\n",
    "\n"
   ]
  },
  {
   "cell_type": "code",
   "execution_count": null,
   "id": "d83df168-0960-4862-8740-bab21e3e08f1",
   "metadata": {},
   "outputs": [],
   "source": [
    "import numpy as np\n",
    "x=np.array([4,5,6,7,8])\n"
   ]
  },
  {
   "cell_type": "code",
   "execution_count": 1,
   "id": "3ef6e0ea",
   "metadata": {},
   "outputs": [
    {
     "name": "stdout",
     "output_type": "stream",
     "text": [
      "[16 25 36 49 64]\n"
     ]
    }
   ],
   "source": [
    "import numpy as np\n",
    "x=np.array([4,5,6,7,8])\n",
    "xp=np.power(x,2)\n",
    "print(xp)"
   ]
  },
  {
   "cell_type": "code",
   "execution_count": null,
   "id": "f42cc61d",
   "metadata": {},
   "outputs": [
    {
     "name": "stdout",
     "output_type": "stream",
     "text": [
      "[ 6  7  8  9 10]\n"
     ]
    }
   ],
   "source": [
    "x=np.array([4,5,6,7,8])\n",
    "y=np.add(x,2)  #add the value 2\n",
    "print(y)"
   ]
  },
  {
   "cell_type": "code",
   "execution_count": 8,
   "id": "0a6456d4",
   "metadata": {},
   "outputs": [
    {
     "name": "stdout",
     "output_type": "stream",
     "text": [
      "[5 3 6 7 8 9]\n"
     ]
    }
   ],
   "source": [
    "import numpy as np\n",
    "\n",
    "x = np.array([5, 3, 6, 7, 8])\n",
    "a = np.append(x, [9])  # Appending 9 to the array x\n",
    "print(a)\n"
   ]
  },
  {
   "cell_type": "code",
   "execution_count": null,
   "id": "a34faa78",
   "metadata": {},
   "outputs": [
    {
     "name": "stdout",
     "output_type": "stream",
     "text": [
      "[5 3 1 6 7 8]\n"
     ]
    }
   ],
   "source": [
    "import numpy as np\n",
    "\n",
    "x = np.array([5, 3, 6, 7, 8])\n",
    "a = np.insert(x, 2,1)   # insert 1 at the index 2\n",
    "print(a)"
   ]
  },
  {
   "cell_type": "code",
   "execution_count": 12,
   "id": "645c5791",
   "metadata": {},
   "outputs": [
    {
     "name": "stdout",
     "output_type": "stream",
     "text": [
      "[[0. 0. 0. 0. 0.]\n",
      " [0. 0. 0. 0. 0.]]\n"
     ]
    }
   ],
   "source": [
    "x=np.zeros((2,5))\n",
    "print(x)"
   ]
  },
  {
   "cell_type": "code",
   "execution_count": 14,
   "id": "6a241781",
   "metadata": {},
   "outputs": [
    {
     "name": "stdout",
     "output_type": "stream",
     "text": [
      "[[1. 1. 1. 1. 1.]\n",
      " [1. 1. 1. 1. 1.]\n",
      " [1. 1. 1. 1. 1.]]\n"
     ]
    }
   ],
   "source": [
    "z=np.ones((3,5))\n",
    "print(z)"
   ]
  },
  {
   "cell_type": "markdown",
   "id": "effe9b18",
   "metadata": {},
   "source": [
    "Full"
   ]
  },
  {
   "cell_type": "code",
   "execution_count": null,
   "id": "ee5cad67",
   "metadata": {},
   "outputs": [
    {
     "name": "stdout",
     "output_type": "stream",
     "text": [
      "[[7 7 7 7 7]\n",
      " [7 7 7 7 7]]\n"
     ]
    }
   ],
   "source": [
    "x=np.full((2,5),7)   # adds the value 7 in all the 2,5 matrice\n",
    "print(x)"
   ]
  },
  {
   "cell_type": "markdown",
   "id": "717b782b",
   "metadata": {},
   "source": [
    "np.ararnge\n",
    "np.linspace"
   ]
  },
  {
   "cell_type": "code",
   "execution_count": 22,
   "id": "b0d8ba1d",
   "metadata": {},
   "outputs": [
    {
     "name": "stdout",
     "output_type": "stream",
     "text": [
      "[[2 4]\n",
      " [6 8]]\n"
     ]
    }
   ],
   "source": [
    "x=np.arange(2,10,2).reshape(2,2)\n",
    "print(x)           \n",
    "\n"
   ]
  },
  {
   "cell_type": "code",
   "execution_count": 21,
   "id": "3887abd0",
   "metadata": {},
   "outputs": [
    {
     "name": "stdout",
     "output_type": "stream",
     "text": [
      "[ 2. 10.]\n"
     ]
    }
   ],
   "source": [
    "#syntax=np.linspace(start,stop,numbers)\n",
    "r=np.linspace(2,10,2)\n",
    "print(r)"
   ]
  },
  {
   "cell_type": "code",
   "execution_count": 31,
   "id": "36649fb1",
   "metadata": {},
   "outputs": [
    {
     "name": "stdout",
     "output_type": "stream",
     "text": [
      "[0.00734245 0.83362392 0.77497803 0.71787989 0.41849725 0.88510055]\n"
     ]
    }
   ],
   "source": [
    "scores = np.random.random(6)   # between 0 and 1\n",
    "print(scores)"
   ]
  },
  {
   "cell_type": "code",
   "execution_count": 32,
   "id": "3b2b05ce",
   "metadata": {},
   "outputs": [
    {
     "name": "stdout",
     "output_type": "stream",
     "text": [
      "[[ 6 22 29 95 43]\n",
      " [47 49  5 58 12]\n",
      " [19 92 44 94 13]\n",
      " [88 31  9 69 20]\n",
      " [86 69 67 24 50]\n",
      " [54 32 62 12 67]\n",
      " [95 74 40 88 48]\n",
      " [72 60  5 28 88]\n",
      " [ 1 46 32 21  3]\n",
      " [64 58 33 79  8]]\n"
     ]
    }
   ],
   "source": [
    "scores = np.random.randint(1, 100, size=(10, 5))   # 10 rows and 5 columns\n",
    "print(scores)"
   ]
  },
  {
   "cell_type": "code",
   "execution_count": 34,
   "id": "7a2bacc4",
   "metadata": {},
   "outputs": [
    {
     "name": "stdout",
     "output_type": "stream",
     "text": [
      "[58 14 59 41 96]\n"
     ]
    }
   ],
   "source": [
    "scores = np.random.randint(1, 100, 5)   # 10 rows and 5 columns\n",
    "print(scores)"
   ]
  },
  {
   "cell_type": "code",
   "execution_count": null,
   "id": "d86654ec",
   "metadata": {},
   "outputs": [
    {
     "name": "stdout",
     "output_type": "stream",
     "text": [
      "[5.96909771 0.65451554 3.82810189 8.63198735 7.01175893]\n"
     ]
    }
   ],
   "source": [
    "d=np.random.uniform(0,10,5)    # generates the number in floating point\n",
    "print(d)"
   ]
  }
 ],
 "metadata": {
  "kernelspec": {
   "display_name": "broadwayenv",
   "language": "python",
   "name": "python3"
  },
  "language_info": {
   "codemirror_mode": {
    "name": "ipython",
    "version": 3
   },
   "file_extension": ".py",
   "mimetype": "text/x-python",
   "name": "python",
   "nbconvert_exporter": "python",
   "pygments_lexer": "ipython3",
   "version": "3.13.3"
  }
 },
 "nbformat": 4,
 "nbformat_minor": 5
}
