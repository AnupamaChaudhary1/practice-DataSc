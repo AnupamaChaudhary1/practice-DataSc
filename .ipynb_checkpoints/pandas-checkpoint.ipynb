{
 "cells": [
  {
   "cell_type": "code",
   "execution_count": 3,
   "id": "7f52304d",
   "metadata": {},
   "outputs": [
    {
     "name": "stdout",
     "output_type": "stream",
     "text": [
      "    cars  passings\n",
      "0    BMW         3\n",
      "1  Volvo         5\n",
      "2    AAA         6\n"
     ]
    }
   ],
   "source": [
    "import pandas as pd\n",
    "data={'cars':[\"BMW\",\"Volvo\",\"AAA\"], 'passings': [3,5,6]}\n",
    "myvar=pd.DataFrame(data)\n",
    "print(myvar)"
   ]
  },
  {
   "cell_type": "code",
   "execution_count": 5,
   "id": "7579ba24",
   "metadata": {},
   "outputs": [
    {
     "name": "stdout",
     "output_type": "stream",
     "text": [
      "0    1\n",
      "1    7\n",
      "2    2\n",
      "dtype: int64\n"
     ]
    }
   ],
   "source": [
    "import pandas as pd\n",
    "\n",
    "a = [1, 7, 2]\n",
    "\n",
    "myvar = pd.Series(a)\n",
    "\n",
    "print(myvar)"
   ]
  },
  {
   "cell_type": "code",
   "execution_count": 4,
   "id": "d145fada",
   "metadata": {},
   "outputs": [
    {
     "name": "stdout",
     "output_type": "stream",
     "text": [
      "2.2.3\n"
     ]
    }
   ],
   "source": [
    "import pandas as pd\n",
    "\n",
    "print(pd.__version__)"
   ]
  },
  {
   "cell_type": "code",
   "execution_count": 6,
   "id": "d4bfe988",
   "metadata": {},
   "outputs": [
    {
     "name": "stdout",
     "output_type": "stream",
     "text": [
      "   Categories  Quantites\n",
      "0         399         60\n",
      "1         222         69\n",
      "2         444         23\n"
     ]
    }
   ],
   "source": [
    "import pandas as pd\n",
    "data={\n",
    "\"Categories\":[399,222,444],\n",
    "\"Quantites\":[60,69,23]\n",
    "}\n",
    "df=pd.DataFrame(data)\n",
    "print(df)"
   ]
  },
  {
   "cell_type": "code",
   "execution_count": 11,
   "id": "8f41c053",
   "metadata": {},
   "outputs": [
    {
     "name": "stdout",
     "output_type": "stream",
     "text": [
      "   Categories  Quantites\n",
      "2         444         23\n",
      "1         222         69\n"
     ]
    }
   ],
   "source": [
    "print(df.loc[[2,1]])\n"
   ]
  },
  {
   "cell_type": "markdown",
   "id": "3fa1bb80",
   "metadata": {},
   "source": [
    "Generate random data for studet marks"
   ]
  },
  {
   "cell_type": "code",
   "execution_count": null,
   "id": "ee680afa",
   "metadata": {},
   "outputs": [
    {
     "name": "stdout",
     "output_type": "stream",
     "text": [
      "[[75 37 78 35 83]\n",
      " [54 62 52 94 65]\n",
      " [40 87 72 74 37]\n",
      " [59 50 98 44 99]\n",
      " [38 71 74 54 63]\n",
      " [75 73 47 52 93]\n",
      " [64 57 95 80 54]\n",
      " [54 81 53 85 42]\n",
      " [91 58 58 68 90]\n",
      " [93 94 78 52 45]\n",
      " [75 56 56 84 46]\n",
      " [50 84 47 40 81]\n",
      " [97 56 91 97 67]\n",
      " [67 61 38 58 40]\n",
      " [83 97 89 75 64]\n",
      " [69 62 57 53 92]\n",
      " [51 37 94 63 64]\n",
      " [61 66 98 74 43]\n",
      " [44 84 39 84 93]\n",
      " [62 80 92 53 69]]\n"
     ]
    }
   ],
   "source": [
    "import pandas as pd\n",
    "import numpy as np\n",
    "names = [\"Aarav\", \"Bina\", \"Chetan\", \"Dipika\", \"Ekta\",\n",
    "         \"Farhan\", \"Gita\", \"Hari\", \"Isha\", \"Jay\",\n",
    "         \"Kiran\", \"Laxmi\", \"Manish\", \"Nikita\", \"Om\",\n",
    "         \"Prakash\", \"Qasim\", \"Rita\", \"Suman\", \"Tara\"]\n",
    "subjects = [\"Mathematics\", \"Science\", \"English\", \"Social Studies\", \"Computer\"]\n",
    "scores=np.random.randint(35,100,  size=(20,5))\n",
    "print(scores)\n"
   ]
  },
  {
   "cell_type": "markdown",
   "id": "6a2e53e7",
   "metadata": {},
   "source": [
    "Using pandas to create a dataframe"
   ]
  },
  {
   "cell_type": "code",
   "execution_count": null,
   "id": "5b476f67",
   "metadata": {},
   "outputs": [
    {
     "name": "stdout",
     "output_type": "stream",
     "text": [
      "         Mathematics  Science  English  Social Studies  Computer  Average\n",
      "Aarav             75       37       78              35        83     61.6\n",
      "Bina              54       62       52              94        65     65.4\n",
      "Chetan            40       87       72              74        37     62.0\n",
      "Dipika            59       50       98              44        99     70.0\n",
      "Ekta              38       71       74              54        63     60.0\n",
      "Farhan            75       73       47              52        93     68.0\n",
      "Gita              64       57       95              80        54     70.0\n",
      "Hari              54       81       53              85        42     63.0\n",
      "Isha              91       58       58              68        90     73.0\n",
      "Jay               93       94       78              52        45     72.4\n",
      "Kiran             75       56       56              84        46     63.4\n",
      "Laxmi             50       84       47              40        81     60.4\n",
      "Manish            97       56       91              97        67     81.6\n",
      "Nikita            67       61       38              58        40     52.8\n",
      "Om                83       97       89              75        64     81.6\n",
      "Prakash           69       62       57              53        92     66.6\n",
      "Qasim             51       37       94              63        64     61.8\n",
      "Rita              61       66       98              74        43     68.4\n",
      "Suman             44       84       39              84        93     68.8\n",
      "Tara              62       80       92              53        69     71.2\n"
     ]
    }
   ],
   "source": [
    "df=pd.DataFrame(scores, columns=subjects, index=names)\n",
    "# df.insert(0,'Name',names)\n",
    "sc_avg=np.mean(scores,axis=1)\n",
    "df.insert(5,'Average',sc_avg)\n",
    "print(df)\n"
   ]
  },
  {
   "cell_type": "code",
   "execution_count": 32,
   "id": "48b45667",
   "metadata": {},
   "outputs": [
    {
     "name": "stdout",
     "output_type": "stream",
     "text": [
      "         Mathematics  Science  English  Social Studies  Computer  Average\n",
      "Nikita            67       61       38              58        40     52.8\n",
      "Om                83       97       89              75        64     81.6\n",
      "Prakash           69       62       57              53        92     66.6\n",
      "Qasim             51       37       94              63        64     61.8\n",
      "Rita              61       66       98              74        43     68.4\n",
      "Suman             44       84       39              84        93     68.8\n",
      "Tara              62       80       92              53        69     71.2\n"
     ]
    }
   ],
   "source": [
    "print(df.tail(7))"
   ]
  },
  {
   "cell_type": "code",
   "execution_count": 34,
   "id": "cc9ec00a",
   "metadata": {},
   "outputs": [
    {
     "name": "stdout",
     "output_type": "stream",
     "text": [
      "Mathematics       67.0\n",
      "Science           61.0\n",
      "English           38.0\n",
      "Social Studies    58.0\n",
      "Computer          40.0\n",
      "Average           52.8\n",
      "Name: Nikita, dtype: float64\n"
     ]
    }
   ],
   "source": [
    "# print(df.loc[[0,1]])\n",
    "print(df.loc[\"Nikita\"])"
   ]
  },
  {
   "cell_type": "code",
   "execution_count": null,
   "id": "efc5ac24",
   "metadata": {},
   "outputs": [],
   "source": [
    "print(df[['Mathematics','Science']])"
   ]
  },
  {
   "cell_type": "code",
   "execution_count": 35,
   "id": "09651a1a",
   "metadata": {},
   "outputs": [
    {
     "name": "stdout",
     "output_type": "stream",
     "text": [
      "<class 'pandas.core.frame.DataFrame'>\n",
      "Index: 20 entries, Aarav to Tara\n",
      "Data columns (total 6 columns):\n",
      " #   Column          Non-Null Count  Dtype  \n",
      "---  ------          --------------  -----  \n",
      " 0   Mathematics     20 non-null     int32  \n",
      " 1   Science         20 non-null     int32  \n",
      " 2   English         20 non-null     int32  \n",
      " 3   Social Studies  20 non-null     int32  \n",
      " 4   Computer        20 non-null     int32  \n",
      " 5   Average         20 non-null     float64\n",
      "dtypes: float64(1), int32(5)\n",
      "memory usage: 1.2+ KB\n"
     ]
    }
   ],
   "source": [
    "df.info()"
   ]
  },
  {
   "cell_type": "code",
   "execution_count": null,
   "id": "a4a0ece9",
   "metadata": {},
   "outputs": [],
   "source": []
  }
 ],
 "metadata": {
  "kernelspec": {
   "display_name": "broadwayenv",
   "language": "python",
   "name": "python3"
  },
  "language_info": {
   "codemirror_mode": {
    "name": "ipython",
    "version": 3
   },
   "file_extension": ".py",
   "mimetype": "text/x-python",
   "name": "python",
   "nbconvert_exporter": "python",
   "pygments_lexer": "ipython3",
   "version": "3.13.3"
  }
 },
 "nbformat": 4,
 "nbformat_minor": 5
}
