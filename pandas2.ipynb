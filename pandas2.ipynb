{
 "cells": [
  {
   "cell_type": "code",
   "execution_count": 5,
   "id": "06f219e6",
   "metadata": {},
   "outputs": [
    {
     "name": "stdout",
     "output_type": "stream",
     "text": [
      "   Name  Age\n",
      "0  Tina   19\n",
      "1   aaa   39\n",
      "2   ddd   37\n",
      "    College  Name  Age\n",
      "0  Broadway  Tina   19\n",
      "1  Broadway   aaa   39\n",
      "2  Broadway   ddd   37\n"
     ]
    }
   ],
   "source": [
    "#using actual data for students\n",
    "#load CSV into data frames\n",
    "import pandas as pd\n",
    "df= pd.read_csv('student.csv')\n",
    "print(df.to_string())\n",
    "\n",
    "df.insert(0,'College','Broadway')\n",
    "print(df.to_string())\n",
    "\n",
    "df.to_csv('student_update.csv', index=False)"
   ]
  },
  {
   "cell_type": "code",
   "execution_count": 4,
   "id": "5f5c6836",
   "metadata": {},
   "outputs": [
    {
     "name": "stdout",
     "output_type": "stream",
     "text": [
      "<class 'pandas.core.frame.DataFrame'>\n",
      "RangeIndex: 5 entries, 0 to 4\n",
      "Data columns (total 8 columns):\n",
      " #   Column    Non-Null Count  Dtype \n",
      "---  ------    --------------  ----- \n",
      " 0   ID        5 non-null      object\n",
      " 1   Name      5 non-null      object\n",
      " 2   Batch     5 non-null      object\n",
      " 3   Math      5 non-null      int64 \n",
      " 4   Science   5 non-null      int64 \n",
      " 5   English   5 non-null      int64 \n",
      " 6   History   5 non-null      int64 \n",
      " 7   Computer  5 non-null      int64 \n",
      "dtypes: int64(5), object(3)\n",
      "memory usage: 452.0+ bytes\n",
      "None\n",
      "<bound method DataFrame.sum of       ID   Name  Batch   Math  Science  English  History  Computer\n",
      "0  False  False  False  False    False    False    False     False\n",
      "1  False  False  False  False    False    False    False     False\n",
      "2  False  False  False  False    False    False    False     False\n",
      "3  False  False  False  False    False    False    False     False\n",
      "4  False  False  False  False    False    False    False     False>\n"
     ]
    }
   ],
   "source": [
    "import pandas as pd\n",
    "\n",
    "# Try with 'latin1' encoding\n",
    "df = pd.read_csv('student_performance_1000.csv').head()\n",
    "print(df.info())\n",
    "\n",
    "print(df.isna().sum)\n"
   ]
  },
  {
   "cell_type": "code",
   "execution_count": 5,
   "id": "ccd002e0",
   "metadata": {},
   "outputs": [
    {
     "name": "stdout",
     "output_type": "stream",
     "text": [
      "        ID           Name Batch  Math  Science  English  History  Computer\n",
      "0  STD0001  Suresh Gurung     A  46.0     98.0     44.0     75.0      39.0\n",
      "1  STD0002       Nisha KC     C  98.0     75.0     95.0     99.0      40.0\n",
      "2  STD0003  Prakash Thapa     B  47.0     75.0     84.0     43.0      64.0\n",
      "3  STD0004   Kiran Gurung     C  94.0     69.0     79.0     54.0      45.0\n",
      "4  STD0005  Rojina Gurung     C  35.0     43.0     97.0     71.0      63.0\n"
     ]
    }
   ],
   "source": [
    "import pandas as pd\n",
    "\n",
    "# Try with 'latin1' encoding\n",
    "df = pd.read_csv('missing_student_performance.csv').head()\n",
    "print(df.to_string())"
   ]
  },
  {
   "cell_type": "markdown",
   "id": "ba3fd105",
   "metadata": {},
   "source": [
    "clean column names"
   ]
  },
  {
   "cell_type": "code",
   "execution_count": 7,
   "id": "0338ab9a",
   "metadata": {},
   "outputs": [
    {
     "name": "stdout",
     "output_type": "stream",
     "text": [
      "Index(['id', 'name', 'batch', 'math', 'science', 'english', 'history',\n",
      "       'computer'],\n",
      "      dtype='object')\n",
      "id\n",
      "name\n",
      "batch\n",
      "math\n",
      "science\n",
      "english\n",
      "history\n",
      "computer\n",
      "['id', 'name', 'batch', 'math', 'science', 'english', 'history', 'computer']\n",
      "Index(['id', 'name', 'batch', 'math', 'science', 'english', 'history',\n",
      "       'computer'],\n",
      "      dtype='object')\n"
     ]
    }
   ],
   "source": [
    "cols=df.columns\n",
    "print(cols)\n",
    "new_cols=[]\n",
    "for i in cols:\n",
    "    new_col=i.strip().lower()\n",
    "    print(new_col)\n",
    "    new_cols.append(new_col)\n",
    "print(new_cols)\n",
    "\n",
    "df.columns=[col.strip().lower() for col in df.columns]\n",
    "print(df.columns) "
   ]
  },
  {
   "cell_type": "markdown",
   "id": "3bb9501f",
   "metadata": {},
   "source": [
    "3. fill missing values(global fill)"
   ]
  },
  {
   "cell_type": "code",
   "execution_count": 25,
   "id": "19eca1bf",
   "metadata": {},
   "outputs": [
    {
     "name": "stdout",
     "output_type": "stream",
     "text": [
      "id          0\n",
      "name        0\n",
      "batch       0\n",
      "math        0\n",
      "science     0\n",
      "english     0\n",
      "history     0\n",
      "computer    0\n",
      "dtype: int64\n"
     ]
    }
   ],
   "source": [
    "df.fillna(0)\n",
    "print(df.isna().sum())\n"
   ]
  },
  {
   "cell_type": "markdown",
   "id": "482d3d2b",
   "metadata": {},
   "source": [
    "4.fill missing values with subjectwise"
   ]
  },
  {
   "cell_type": "code",
   "execution_count": 29,
   "id": "0a20ee59",
   "metadata": {},
   "outputs": [
    {
     "name": "stdout",
     "output_type": "stream",
     "text": [
      "67.2\n",
      "84.0\n",
      "59.6\n",
      "61.6\n",
      "73.4\n",
      "id          0\n",
      "name        0\n",
      "batch       0\n",
      "math        0\n",
      "science     0\n",
      "english     0\n",
      "history     0\n",
      "computer    0\n",
      "dtype: int64\n"
     ]
    }
   ],
   "source": [
    "import math\n",
    "subject_columns=['math','science','english','history','computer']\n",
    "# print(df['math'])\n",
    "for col in subject_columns:\n",
    "    mean_value=df[col].mean()\n",
    "    print(mean_value)\n",
    "    df[col]=df[col].fillna(math.ceil(mean_value))\n",
    "print(df.isna().sum())\n",
    "df.to_csv('test_student.csv',index=False)"
   ]
  },
  {
   "cell_type": "markdown",
   "id": "39aa6aea",
   "metadata": {},
   "source": [
    "5. Add total and average columns \n"
   ]
  },
  {
   "cell_type": "code",
   "execution_count": 34,
   "id": "08a79120",
   "metadata": {},
   "outputs": [
    {
     "name": "stdout",
     "output_type": "stream",
     "text": [
      "0    373\n",
      "1    382\n",
      "2    283\n",
      "3    351\n",
      "4    340\n",
      "dtype: int64\n",
      "0    74.6\n",
      "1    76.4\n",
      "2    56.6\n",
      "3    70.2\n",
      "4    68.0\n",
      "dtype: float64\n"
     ]
    },
    {
     "data": {
      "text/html": [
       "<div>\n",
       "<style scoped>\n",
       "    .dataframe tbody tr th:only-of-type {\n",
       "        vertical-align: middle;\n",
       "    }\n",
       "\n",
       "    .dataframe tbody tr th {\n",
       "        vertical-align: top;\n",
       "    }\n",
       "\n",
       "    .dataframe thead th {\n",
       "        text-align: right;\n",
       "    }\n",
       "</style>\n",
       "<table border=\"1\" class=\"dataframe\">\n",
       "  <thead>\n",
       "    <tr style=\"text-align: right;\">\n",
       "      <th></th>\n",
       "      <th>id</th>\n",
       "      <th>name</th>\n",
       "      <th>batch</th>\n",
       "      <th>math</th>\n",
       "      <th>science</th>\n",
       "      <th>english</th>\n",
       "      <th>history</th>\n",
       "      <th>computer</th>\n",
       "      <th>total</th>\n",
       "    </tr>\n",
       "  </thead>\n",
       "  <tbody>\n",
       "    <tr>\n",
       "      <th>0</th>\n",
       "      <td>STD0001</td>\n",
       "      <td>Shyam Thapa</td>\n",
       "      <td>C</td>\n",
       "      <td>78</td>\n",
       "      <td>91</td>\n",
       "      <td>68</td>\n",
       "      <td>54</td>\n",
       "      <td>82</td>\n",
       "      <td>373</td>\n",
       "    </tr>\n",
       "    <tr>\n",
       "      <th>1</th>\n",
       "      <td>STD0002</td>\n",
       "      <td>Ramesh Gurung</td>\n",
       "      <td>C</td>\n",
       "      <td>47</td>\n",
       "      <td>100</td>\n",
       "      <td>60</td>\n",
       "      <td>78</td>\n",
       "      <td>97</td>\n",
       "      <td>382</td>\n",
       "    </tr>\n",
       "    <tr>\n",
       "      <th>2</th>\n",
       "      <td>STD0003</td>\n",
       "      <td>Kabita Rai</td>\n",
       "      <td>B</td>\n",
       "      <td>58</td>\n",
       "      <td>62</td>\n",
       "      <td>50</td>\n",
       "      <td>50</td>\n",
       "      <td>63</td>\n",
       "      <td>283</td>\n",
       "    </tr>\n",
       "    <tr>\n",
       "      <th>3</th>\n",
       "      <td>STD0004</td>\n",
       "      <td>Shyam Poudel</td>\n",
       "      <td>C</td>\n",
       "      <td>92</td>\n",
       "      <td>75</td>\n",
       "      <td>79</td>\n",
       "      <td>63</td>\n",
       "      <td>42</td>\n",
       "      <td>351</td>\n",
       "    </tr>\n",
       "    <tr>\n",
       "      <th>4</th>\n",
       "      <td>STD0005</td>\n",
       "      <td>Rita Adhikari</td>\n",
       "      <td>A</td>\n",
       "      <td>61</td>\n",
       "      <td>92</td>\n",
       "      <td>41</td>\n",
       "      <td>63</td>\n",
       "      <td>83</td>\n",
       "      <td>340</td>\n",
       "    </tr>\n",
       "  </tbody>\n",
       "</table>\n",
       "</div>"
      ],
      "text/plain": [
       "        id           name batch  math  science  english  history  computer  \\\n",
       "0  STD0001    Shyam Thapa     C    78       91       68       54        82   \n",
       "1  STD0002  Ramesh Gurung     C    47      100       60       78        97   \n",
       "2  STD0003     Kabita Rai     B    58       62       50       50        63   \n",
       "3  STD0004   Shyam Poudel     C    92       75       79       63        42   \n",
       "4  STD0005  Rita Adhikari     A    61       92       41       63        83   \n",
       "\n",
       "   total  \n",
       "0    373  \n",
       "1    382  \n",
       "2    283  \n",
       "3    351  \n",
       "4    340  "
      ]
     },
     "execution_count": 34,
     "metadata": {},
     "output_type": "execute_result"
    }
   ],
   "source": [
    "subject_columns=['math','science','english','history','computer']\n",
    "total=df[subject_columns].sum(axis=1)\n",
    "print(total)\n",
    "df['total']=total\n",
    "\n",
    "average=df[subject_columns].mean(axis=1)\n",
    "print(average)\n",
    "df.head()"
   ]
  },
  {
   "cell_type": "code",
   "execution_count": null,
   "id": "bf70133e",
   "metadata": {},
   "outputs": [],
   "source": []
  }
 ],
 "metadata": {
  "kernelspec": {
   "display_name": "broadwayenv",
   "language": "python",
   "name": "python3"
  },
  "language_info": {
   "codemirror_mode": {
    "name": "ipython",
    "version": 3
   },
   "file_extension": ".py",
   "mimetype": "text/x-python",
   "name": "python",
   "nbconvert_exporter": "python",
   "pygments_lexer": "ipython3",
   "version": "3.13.3"
  }
 },
 "nbformat": 4,
 "nbformat_minor": 5
}
