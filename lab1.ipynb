{
 "cells": [
  {
   "cell_type": "markdown",
   "id": "3a12f153",
   "metadata": {},
   "source": [
    "#Task:simulate marks of 10 students in 5 subjects. Each mark should be between 35 and 100.\n",
    "list of names of students\n",
    "subjects=['maths','science','computer','english','nepali']"
   ]
  },
  {
   "cell_type": "code",
   "execution_count": 14,
   "id": "c024157b",
   "metadata": {},
   "outputs": [
    {
     "name": "stdout",
     "output_type": "stream",
     "text": [
      "Subjects: ['maths', 'science', 'computer', 'english', 'nepali']\n",
      "Aaa: [86 49 95 55 58]\n",
      "Bbb: [37 56 87 36 64]\n",
      "Ccc: [72 36 98 94 55]\n",
      "Ann: [67 92 56 83 93]\n",
      "Sita: [76 94 49 96 96]\n",
      "Ram: [81 96 85 89 98]\n",
      "Shyam: [37 85 41 55 73]\n",
      "Tina: [52 38 94 48 43]\n",
      "Gita: [87 36 94 78 42]\n",
      "John: [81 69 70 84 38]\n"
     ]
    }
   ],
   "source": [
    "import numpy as np\n",
    "i=1\n",
    "names=['Aaa','Bbb','Ccc','Ann','Sita','Ram','Shyam','Tina','Gita','John']\n",
    "subjects=['maths','science','computer','english','nepali']\n",
    "np.random.seed(42)\n",
    "scores = np.random.randint(35, 100, size=(10, 5))\n",
    "# print(scores)\n",
    "print(f\"Subjects: {subjects}\")\n",
    "for i in range(len(scores)):\n",
    "   \n",
    "   print(f\"{names [i]}: {scores[i]}\")"
   ]
  },
  {
   "cell_type": "markdown",
   "id": "6fdf1e88",
   "metadata": {},
   "source": [
    "# Basic analysis\n",
    "# Tasks\n",
    "-Total score per student\n",
    "-Average score per student\n",
    "-subject wise average"
   ]
  },
  {
   "cell_type": "code",
   "execution_count": null,
   "id": "7de6ca61",
   "metadata": {},
   "outputs": [
    {
     "name": "stdout",
     "output_type": "stream",
     "text": [
      "Average of subject maths: 68.6\n",
      "Average of subject science: 56.0\n",
      "Average of subject computer: 71.0\n",
      "Average of subject english: 78.2\n",
      "Average of subject nepali: 82.2\n",
      "Total of Aaa: 343, Average of Aaa is: 68.6\n",
      "Total of Bbb: 280, Average of Bbb is: 56.0\n",
      "Total of Ccc: 355, Average of Ccc is: 71.0\n",
      "Total of Ann: 391, Average of Ann is: 78.2\n",
      "Total of Sita: 411, Average of Sita is: 82.2\n",
      "Total of Ram: 449, Average of Ram is: 89.8\n",
      "Total of Shyam: 291, Average of Shyam is: 58.2\n",
      "Total of Tina: 275, Average of Tina is: 55.0\n",
      "Total of Gita: 337, Average of Gita is: 67.4\n",
      "Total of John: 342, Average of John is: 68.4\n"
     ]
    }
   ],
   "source": [
    "import numpy as np\n",
    "names = ['Aaa', 'Bbb', 'Ccc', 'Ann', 'Sita', 'Ram', 'Shyam', 'Tina', 'Gita', 'John']\n",
    "np.random.seed(42)\n",
    "scores = np.random.randint(35, 100, size=(10, 5))\n",
    "subjects=['maths','science','computer','english','nepali']\n",
    "for j in range(len(subjects)):\n",
    "    print(f\"Average of subject {subjects[j]}:\",  scores[j].mean())\n",
    "for i in range(len(scores)):\n",
    "    total = scores[i].sum()\n",
    "    average = scores[i].mean()\n",
    "    print(f\"Total of {names[i]}: {total}, Average of {names[i]} is: {average}\")\n"
   ]
  },
  {
   "cell_type": "markdown",
   "id": "18e76674",
   "metadata": {},
   "source": [
    "#### Part 3: Ranking and Top Performers\n",
    "Task:\n",
    "- Top 3 students based on total\n",
    "- Lowest 3 students based on total\n",
    "- Display their names and total/average"
   ]
  },
  {
   "cell_type": "code",
   "execution_count": 24,
   "id": "9534d752",
   "metadata": {},
   "outputs": [
    {
     "name": "stdout",
     "output_type": "stream",
     "text": [
      "Top3 students:\n",
      "Ram- total: 449,  Average: 89.8\n",
      "Sita- total: 411,  Average: 82.2\n",
      "Ann- total: 391,  Average: 78.2\n",
      "Lowest students:\n",
      "Tina total: 275,  Average: 55.0\n",
      "Bbb total: 280,  Average: 56.0\n",
      "Shyam total: 291,  Average: 58.2\n"
     ]
    }
   ],
   "source": [
    "import numpy as np\n",
    "names = ['Aaa', 'Bbb', 'Ccc', 'Ann', 'Sita', 'Ram', 'Shyam', 'Tina', 'Gita', 'John']\n",
    "np.random.seed(42)\n",
    "scores=np.random.randint(35,100, size=(10,5))\n",
    "subjects=['maths','science','computer','english','nepali']\n",
    "total = []\n",
    "average = []\n",
    "for i in range(len(scores)):\n",
    "    total.append(scores[i].sum())\n",
    "    average.append(scores[i].mean())\n",
    "top3=np.argsort(total)[-3:][::-1]\n",
    "print(\"Top3 students:\")\n",
    "for i in top3:\n",
    "    print(f\"{names[i]}- total: {total[i]},  Average: {average[i]}\")\n",
    "\n",
    "lowest3=np.argsort(total)[:3]\n",
    "print(\"Lowest students:\")\n",
    "for i in lowest3:\n",
    "    print(f\"{names[i]} total: {total[i]},  Average: {average[i]}\")"
   ]
  },
  {
   "cell_type": "markdown",
   "id": "dd134d8f",
   "metadata": {},
   "source": [
    "#### Part 4: Score Normalization\n",
    "Task: \n",
    "- Normalize total scores to 0-1\n",
    "- Show top 3 normalized students\n",
    "- Find out the university topper."
   ]
  },
  {
   "cell_type": "code",
   "execution_count": 40,
   "id": "e3c75e2f",
   "metadata": {},
   "outputs": [
    {
     "name": "stdout",
     "output_type": "stream",
     "text": [
      "Top 3 students:\n",
      "Ram - Normalized total: 1.0 Total: 449\n",
      "Sita - Normalized total: 0.7816091954022989 Total: 411\n",
      "Ann - Normalized total: 0.6666666666666666 Total: 391\n",
      "\n",
      "Topper student: Ram\n"
     ]
    }
   ],
   "source": [
    "import numpy as np\n",
    "names = ['Aaa', 'Bbb', 'Ccc', 'Ann', 'Sita', 'Ram', 'Shyam', 'Tina', 'Gita', 'John']\n",
    "np.random.seed(42)\n",
    "scores=np.random.randint(35,100, size=(10,5))\n",
    "subjects=['maths','science','computer','english','nepali']\n",
    "total = scores.sum(axis=1)\n",
    "norm_total = (total - total.min()) / (total.max() - total.min()) \n",
    "print(\"Top 3 students:\")\n",
    "for i in top3:\n",
    "    print(f\"{names[i]} - Normalized total: {norm_total[i]:} Total: {total[i]}\")\n",
    "\n",
    "top1 = np.argmax(norm_total)\n",
    "print(f\"\\nTopper student: {names[top1]}\")\n",
    "\n"
   ]
  },
  {
   "cell_type": "markdown",
   "id": "c6b12d10",
   "metadata": {},
   "source": [
    "#### Part 5: Subject Wise Analysis (Pick only one college data)\n",
    "Task\n",
    "- Subject with Highest Average\n",
    "- Subject with Most Variation (Standard Deviation)"
   ]
  },
  {
   "cell_type": "code",
   "execution_count": 3,
   "id": "dc120dc3",
   "metadata": {},
   "outputs": [
    {
     "name": "stdout",
     "output_type": "stream",
     "text": [
      "The subject with maximum average value is: 76.9\n",
      "The subject with maximum variation is: 23.863989607775142\n"
     ]
    }
   ],
   "source": [
    "import numpy as np\n",
    "names = ['Aaa', 'Bbb', 'Ccc', 'Ann', 'Sita', 'Ram', 'Shyam', 'Tina', 'Gita', 'John']\n",
    "np.random.seed(42)\n",
    "scores = np.random.randint(35, 100, size=(10, 5))\n",
    "subjects = ['maths', 'science', 'computer', 'english', 'nepali']\n",
    "\n",
    "# Calculate average and std deviation per subject (column-wise)\n",
    "subject_avg = scores.mean(axis=0)\n",
    "subject_std = scores.std(axis=0)\n",
    "max=np.argmax(subject_avg)\n",
    "max_std=np.argmax(subject_std)\n",
    "print(f\"The subject with maximum average value is: {subject_avg[max]}\")\n",
    "print(f\"The subject with maximum variation is: {subject_std[max_std]}\")"
   ]
  },
  {
   "cell_type": "markdown",
   "id": "8dc7a04e",
   "metadata": {},
   "source": [
    "#### Part 6: Performance Flags\n",
    "Task\n",
    "- Label students as Excellent (avg > 85), Average (avg > 60) or Needs Improvement"
   ]
  },
  {
   "cell_type": "code",
   "execution_count": 1,
   "id": "c6fd9c8b",
   "metadata": {},
   "outputs": [
    {
     "name": "stdout",
     "output_type": "stream",
     "text": [
      "Aaa- Average=68.6= Average\n",
      "Bbb- Average=56.0= Needs Improvement\n",
      "Ccc- Average=71.0= Average\n",
      "Ann- Average=78.2= Average\n",
      "Sita- Average=82.2= Average\n",
      "Ram- Average=89.8= Excellent\n",
      "Shyam- Average=58.2= Needs Improvement\n",
      "Tina- Average=55.0= Needs Improvement\n",
      "Gita- Average=67.4= Average\n",
      "John- Average=68.4= Average\n"
     ]
    }
   ],
   "source": [
    "import numpy as np\n",
    "names = ['Aaa', 'Bbb', 'Ccc', 'Ann', 'Sita', 'Ram', 'Shyam', 'Tina', 'Gita', 'John']\n",
    "np.random.seed(42)\n",
    "scores = np.random.randint(35, 100, size=(10, 5))\n",
    "subjects=['maths','science','computer','english','nepali']\n",
    "averages = scores.mean(axis=1)\n",
    "\n",
    "for i in range(len(names)):\n",
    "    if averages[i]>85:\n",
    "        label= \"Excellent\"\n",
    "    elif averages[i]>60:\n",
    "        label=\"Average\"\n",
    "    else:\n",
    "        label=\"Needs Improvement\"\n",
    "    print(f\"{names[i]}- Average={averages[i]}= {label}\")\n",
    "\n"
   ]
  },
  {
   "cell_type": "markdown",
   "id": "1b9c0af5",
   "metadata": {},
   "source": [
    "#### Part 7: Grace Marks + Recalculation\n",
    "Task\n",
    "- Add 5 bonus marks to all students in Science\n",
    "- Recalculate averages\n",
    "- Identify who gained most improvement."
   ]
  },
  {
   "cell_type": "code",
   "execution_count": null,
   "id": "b4e6a1d8",
   "metadata": {},
   "outputs": [
    {
     "name": "stdout",
     "output_type": "stream",
     "text": [
      "Aaa: Average is: 69.6, Old average is 68.6\n",
      "Bbb: Average is: 57.0, Old average is 56.0\n",
      "Ccc: Average is: 71.0, Old average is 71.0\n",
      "Ann: Average is: 79.2, Old average is 78.2\n",
      "Sita: Average is: 83.2, Old average is 82.2\n",
      "Ram: Average is: 89.8, Old average is 89.8\n",
      "Shyam: Average is: 59.2, Old average is 58.2\n",
      "Tina: Average is: 55.0, Old average is 55.0\n",
      "Gita: Average is: 67.4, Old average is 67.4\n",
      "John: Average is: 69.4, Old average is 68.4\n",
      "\n",
      "Most Improved: Aaa 1.0\n"
     ]
    }
   ],
   "source": [
    "import numpy as np\n",
    "\n",
    "names = ['Aaa', 'Bbb', 'Ccc', 'Ann', 'Sita', 'Ram', 'Shyam', 'Tina', 'Gita', 'John']\n",
    "subjects = ['maths', 'science', 'computer', 'english', 'nepali']\n",
    "\n",
    "np.random.seed(42)\n",
    "scores = np.random.randint(35, 100, size=(10, 5))\n",
    "\n",
    "# Before grace marks\n",
    "old_avg = scores.mean(axis=1)\n",
    "\n",
    "# Add 5 bonus marks in science (column index 1)\n",
    "for i in range(len(scores)):\n",
    "    if 40 <= scores[i, 1] <= 95:\n",
    "        scores[i, 1]+= 5\n",
    "    \n",
    "# After grace marks\n",
    "new_avg = scores.mean(axis=1)\n",
    "# Improvement in average\n",
    "improvement = new_avg - old_avg\n",
    "# student with highest improvement\n",
    "max_improve_index = np.argmax(improvement)\n",
    "# total and average for each student\n",
    "for i in range(len(scores)):\n",
    "    total = scores[i].sum()\n",
    "    average = scores[i].mean()\n",
    "    print(f\"{names[i]}: Average is: {average}, Old average is {old_avg[i]}\")\n",
    "\n",
    "print(f\"\\nMost Improved: {names[max_improve_index]} \")\n",
    "\n"
   ]
  },
  {
   "cell_type": "markdown",
   "id": "361f80f6",
   "metadata": {},
   "source": [
    "#### Part 8: Full Performance Report\n",
    "Task:\n",
    "- Build a structured report for each student.\n",
    "Sample:\n",
    "` Sample Test Report `\n",
    "> Name: Sita (Index 0)\n",
    "> Marks: [88 76 92 90 84]\n",
    "> Total: 430 | Average: 86.00 | Normalized: 0.90\n",
    "> Result: Pass\n",
    "> Tag: Excellent\n",
    "> Below average in: Computer"
   ]
  },
  {
   "cell_type": "code",
   "execution_count": 9,
   "id": "02952f01",
   "metadata": {},
   "outputs": [
    {
     "name": "stdout",
     "output_type": "stream",
     "text": [
      "========== Student Marksheet ==========\n",
      "\n",
      "📄 Marksheet for: Aaa (Index 0)\n",
      "----------------------------------------\n",
      "Maths     : 86\n",
      "Science   : 49\n",
      "Computer  : 95\n",
      "English   : 55\n",
      "Nepali    : 58\n",
      "----------------------------------------\n",
      "Total Marks : 343\n",
      "Average     : 68.6\n",
      "Result      : Pass\n",
      "Tag         : Average\n",
      "Below Avg   : Science, English, Nepali\n",
      "========================================\n",
      "\n",
      "📄 Marksheet for: Bbb (Index 1)\n",
      "----------------------------------------\n",
      "Maths     : 37\n",
      "Science   : 56\n",
      "Computer  : 87\n",
      "English   : 36\n",
      "Nepali    : 64\n",
      "----------------------------------------\n",
      "Total Marks : 280\n",
      "Average     : 56.0\n",
      "Result      : Pass\n",
      "Tag         : Average\n",
      "Below Avg   : Maths, Science, English, Nepali\n",
      "========================================\n",
      "\n",
      "📄 Marksheet for: Ccc (Index 2)\n",
      "----------------------------------------\n",
      "Maths     : 72\n",
      "Science   : 36\n",
      "Computer  : 98\n",
      "English   : 94\n",
      "Nepali    : 55\n",
      "----------------------------------------\n",
      "Total Marks : 355\n",
      "Average     : 71.0\n",
      "Result      : Pass\n",
      "Tag         : Good\n",
      "Below Avg   : Science, Nepali\n",
      "========================================\n",
      "\n",
      "📄 Marksheet for: Ann (Index 3)\n",
      "----------------------------------------\n",
      "Maths     : 67\n",
      "Science   : 92\n",
      "Computer  : 56\n",
      "English   : 83\n",
      "Nepali    : 93\n",
      "----------------------------------------\n",
      "Total Marks : 391\n",
      "Average     : 78.2\n",
      "Result      : Pass\n",
      "Tag         : Good\n",
      "Below Avg   : Maths, Computer\n",
      "========================================\n",
      "\n",
      "📄 Marksheet for: Sita (Index 4)\n",
      "----------------------------------------\n",
      "Maths     : 76\n",
      "Science   : 94\n",
      "Computer  : 49\n",
      "English   : 96\n",
      "Nepali    : 96\n",
      "----------------------------------------\n",
      "Total Marks : 411\n",
      "Average     : 82.2\n",
      "Result      : Pass\n",
      "Tag         : Good\n",
      "Below Avg   : Computer\n",
      "========================================\n",
      "\n",
      "📄 Marksheet for: Ram (Index 5)\n",
      "----------------------------------------\n",
      "Maths     : 81\n",
      "Science   : 96\n",
      "Computer  : 85\n",
      "English   : 89\n",
      "Nepali    : 98\n",
      "----------------------------------------\n",
      "Total Marks : 449\n",
      "Average     : 89.8\n",
      "Result      : Pass\n",
      "Tag         : Excellent\n",
      "Below Avg   : None\n",
      "========================================\n",
      "\n",
      "📄 Marksheet for: Shyam (Index 6)\n",
      "----------------------------------------\n",
      "Maths     : 37\n",
      "Science   : 85\n",
      "Computer  : 41\n",
      "English   : 55\n",
      "Nepali    : 73\n",
      "----------------------------------------\n",
      "Total Marks : 291\n",
      "Average     : 58.2\n",
      "Result      : Pass\n",
      "Tag         : Average\n",
      "Below Avg   : Maths, Computer, English\n",
      "========================================\n",
      "\n",
      "📄 Marksheet for: Tina (Index 7)\n",
      "----------------------------------------\n",
      "Maths     : 52\n",
      "Science   : 38\n",
      "Computer  : 94\n",
      "English   : 48\n",
      "Nepali    : 43\n",
      "----------------------------------------\n",
      "Total Marks : 275\n",
      "Average     : 55.0\n",
      "Result      : Pass\n",
      "Tag         : Average\n",
      "Below Avg   : Maths, Science, English, Nepali\n",
      "========================================\n",
      "\n",
      "📄 Marksheet for: Gita (Index 8)\n",
      "----------------------------------------\n",
      "Maths     : 87\n",
      "Science   : 36\n",
      "Computer  : 94\n",
      "English   : 78\n",
      "Nepali    : 42\n",
      "----------------------------------------\n",
      "Total Marks : 337\n",
      "Average     : 67.4\n",
      "Result      : Pass\n",
      "Tag         : Average\n",
      "Below Avg   : Science, Nepali\n",
      "========================================\n",
      "\n",
      "📄 Marksheet for: John (Index 9)\n",
      "----------------------------------------\n",
      "Maths     : 81\n",
      "Science   : 69\n",
      "Computer  : 70\n",
      "English   : 84\n",
      "Nepali    : 38\n",
      "----------------------------------------\n",
      "Total Marks : 342\n",
      "Average     : 68.4\n",
      "Result      : Pass\n",
      "Tag         : Average\n",
      "Below Avg   : Computer, Nepali\n",
      "========================================\n",
      "\n"
     ]
    }
   ],
   "source": [
    "import numpy as np\n",
    "\n",
    "# Student names and subjects\n",
    "names = ['Aaa', 'Bbb', 'Ccc', 'Ann', 'Sita', 'Ram', 'Shyam', 'Tina', 'Gita', 'John']\n",
    "subjects = ['Maths', 'Science', 'Computer', 'English', 'Nepali']\n",
    "\n",
    "# Random scores\n",
    "np.random.seed(42)\n",
    "scores = np.random.randint(35, 100, size=(10, 5))\n",
    "\n",
    "# Subject-wise average\n",
    "subject_avg = scores.mean(axis=0)\n",
    "max_total = 100 * len(subjects)\n",
    "\n",
    "print(\"========== Student Marksheet ==========\\n\")\n",
    "\n",
    "for i in range(len(names)):\n",
    "    name = names[i]\n",
    "    student_scores = scores[i]\n",
    "    total = student_scores.sum()\n",
    "    average = student_scores.mean()\n",
    "    normalized = total / max_total\n",
    "    result = \"Pass\" if np.all(student_scores >= 35) else \"Fail\"\n",
    "\n",
    "    # Grade tag\n",
    "    if average >= 85:\n",
    "        tag = \"Excellent\"\n",
    "    elif average >= 70:\n",
    "        tag = \"Good\"\n",
    "    elif average >= 50:\n",
    "        tag = \"Average\"\n",
    "    else:\n",
    "        tag = \"Poor\"\n",
    "\n",
    "    # Subjects below class average\n",
    "    below_avg_subjects = [subjects[j] for j in range(len(subjects)) if student_scores[j] < subject_avg[j]]\n",
    "\n",
    "    # Print the marksheet\n",
    "    print(f\"📄 Marksheet for: {name} (Index {i})\")\n",
    "    print(\"-\" * 40)\n",
    "    for j in range(len(subjects)):\n",
    "        print(f\"{subjects[j]:<10}: {student_scores[j]}\")\n",
    "    print(\"-\" * 40)\n",
    "    print(f\"Total Marks : {total}\")\n",
    "    print(f\"Average     : {average}\")\n",
    "    print(f\"Result      : {result}\")\n",
    "    print(f\"Tag         : {tag}\")\n",
    "    print(f\"Below Avg   : {', '.join(below_avg_subjects) if below_avg_subjects else 'None'}\")\n",
    "    print(\"=\" * 40 + \"\\n\")\n"
   ]
  },
  {
   "cell_type": "code",
   "execution_count": 10,
   "id": "06c67729",
   "metadata": {},
   "outputs": [
    {
     "name": "stdout",
     "output_type": "stream",
     "text": [
      "=============================================================================================================================\n",
      "Index Name       Maths     Science   Computer  English   Nepali   Total   Avg    Result  Tag        Below Avg Subjects\n",
      "=============================================================================================================================\n",
      "1      Aaa        86        49        95        55        58       343     68.60  Pass    Average    Science, English, Nepali\n",
      "2      Bbb        37        56        87        36        64       280     56.00  Pass    Average    Maths, Science, English, Nepali\n",
      "3      Ccc        72        36        98        94        55       355     71.00  Pass    Good       Science, Nepali\n",
      "4      Ann        67        92        56        83        93       391     78.20  Pass    Good       Maths, Computer\n",
      "5      Sita       76        94        49        96        96       411     82.20  Pass    Good       Computer\n",
      "6      Ram        81        96        85        89        98       449     89.80  Pass    Excellent  None\n",
      "7      Shyam      37        85        41        55        73       291     58.20  Pass    Average    Maths, Computer, English\n",
      "8      Tina       52        38        94        48        43       275     55.00  Pass    Average    Maths, Science, English, Nepali\n",
      "9      Gita       87        36        94        78        42       337     67.40  Pass    Average    Science, Nepali\n",
      "10     John       81        69        70        84        38       342     68.40  Pass    Average    Computer, Nepali\n",
      "=============================================================================================================================\n"
     ]
    }
   ],
   "source": [
    "import numpy as np\n",
    "\n",
    "# Student names and subjects\n",
    "names = ['Aaa', 'Bbb', 'Ccc', 'Ann', 'Sita', 'Ram', 'Shyam', 'Tina', 'Gita', 'John']\n",
    "subjects = ['Maths', 'Science', 'Computer', 'English', 'Nepali']\n",
    "\n",
    "# Generate scores\n",
    "np.random.seed(42)\n",
    "scores = np.random.randint(35, 100, size=(10, 5))\n",
    "\n",
    "# Subject-wise average\n",
    "subject_avg = scores.mean(axis=0)\n",
    "max_total = 100 * len(subjects)\n",
    "\n",
    "# Header\n",
    "print(\"=\" * 125)\n",
    "print(f\"{'Index':<5} {'Name':<10} \" + \" \".join([f\"{sub:<9}\" for sub in subjects]) +\n",
    "      f\"{'Total':<7} {'Avg':<6} {'Result':<7} {'Tag':<10} {'Below Avg Subjects'}\")\n",
    "print(\"=\" * 125)\n",
    "\n",
    "# Each student's row\n",
    "for i in range(len(names)):\n",
    "    student_scores = scores[i]\n",
    "    total = student_scores.sum()\n",
    "    average = student_scores.mean()\n",
    "    normalized = total / max_total\n",
    "    result = \"Pass\" if np.all(student_scores >= 35) else \"Fail\"\n",
    "\n",
    "    if average >= 85:\n",
    "        tag = \"Excellent\"\n",
    "    elif average >= 70:\n",
    "        tag = \"Good\"\n",
    "    elif average >= 50:\n",
    "        tag = \"Average\"\n",
    "    else:\n",
    "        tag = \"Poor\"\n",
    "\n",
    "    below_avg_subjects = [subjects[j] for j in range(5) if student_scores[j] < subject_avg[j]]\n",
    "    below_str = \", \".join(below_avg_subjects) if below_avg_subjects else \"None\"\n",
    "\n",
    "    print(f\"{i+1:<6} {names[i]:<10} \" + \" \".join([f\"{mark:<9}\" for mark in student_scores]) +\n",
    "          f\"{total:<7} {average:<6.2f} {result:<7} {tag:<10} {below_str}\")\n",
    "\n",
    "print(\"=\" * 125)\n"
   ]
  },
  {
   "cell_type": "markdown",
   "id": "9ffa5099",
   "metadata": {},
   "source": [
    "#### Part 9: Student Ranking and Subject Analytics\n",
    "Task:\n",
    "1. Print students ranked by average\n",
    "2. Highlight students who scored below average in Social Studies.\n",
    "3. Calculate standard deviation and variance for each student."
   ]
  },
  {
   "cell_type": "code",
   "execution_count": null,
   "id": "1c1e5771",
   "metadata": {},
   "outputs": [
    {
     "name": "stdout",
     "output_type": "stream",
     "text": [
      "1. Students ranked by average score:\n",
      "\n",
      "Ram: Average = 89.80\n",
      "Sita: Average = 82.20\n",
      "Ann: Average = 78.20\n",
      "Ccc: Average = 71.00\n",
      "Aaa: Average = 68.60\n",
      "John: Average = 68.40\n",
      "Gita: Average = 67.40\n",
      "Shyam: Average = 58.20\n",
      "Bbb: Average = 56.00\n",
      "Tina: Average = 55.00\n",
      "\n",
      "2. Students below average in Nepali (Social Studies):\n",
      "\n",
      "Aaa: Nepali Score = 58\n",
      "Bbb: Nepali Score = 64\n",
      "Ccc: Nepali Score = 55\n",
      "Tina: Nepali Score = 43\n",
      "Gita: Nepali Score = 42\n",
      "John: Nepali Score = 38\n",
      "\n",
      "Class Average in Nepali: 66.0\n",
      "\n",
      "3. Standard Deviation and Variance per student:\n",
      "\n",
      "Aaa: Std Dev = 18.33684814792335, Variance = 336.24\n",
      "Bbb: Std Dev = 18.89973544788392, Variance = 357.2\n",
      "Ccc: Std Dev = 23.40939982143925, Variance = 548.0\n",
      "Ann: Std Dev = 14.496896219536097, Variance = 210.16\n",
      "Sita: Std Dev = 18.225257199831226, Variance = 332.15999999999997\n",
      "Ram: Std Dev = 6.43117407632541, Variance = 41.36\n",
      "Shyam: Std Dev = 18.400000000000002, Variance = 338.56000000000006\n",
      "Tina: Std Dev = 20.059910268991732, Variance = 402.4\n",
      "Gita: Std Dev = 23.812601705819546, Variance = 567.04\n",
      "John: Std Dev = 16.304600577751053, Variance = 265.84\n"
     ]
    }
   ],
   "source": [
    "import numpy as np\n",
    "names = ['Aaa', 'Bbb', 'Ccc', 'Ann', 'Sita', 'Ram', 'Shyam', 'Tina', 'Gita', 'John']\n",
    "subjects = ['maths', 'science', 'computer', 'english', 'nepali']\n",
    "np.random.seed(42)\n",
    "scores = np.random.randint(35, 100, size=(10, 5))\n",
    "\n",
    "# 1. Print students ranked by average\n",
    "print(\"1. Students ranked by average score:\\n\")\n",
    "averages = scores.mean(axis=1)\n",
    "ranking = np.argsort(-averages)  # - for descending order\n",
    "for i in ranking:\n",
    "    print(f\"{names[i]}: Average = {averages[i]:.2f}\")\n",
    "\n",
    "# 2. Students who scored below average in Nepali (Social Studies)\n",
    "print(\"\\n2. Students below average in Nepali (Social Studies):\\n\")\n",
    "nepali_scores = scores[:, 4]\n",
    "nepali_avg = nepali_scores.mean()\n",
    "for i in range(len(names)):\n",
    "    if nepali_scores[i] < nepali_avg:\n",
    "        print(f\"{names[i]}: Nepali Score = {nepali_scores[i]}\")\n",
    "print(f\"\\nAverage in Nepali: {nepali_avg}\")\n",
    "\n",
    "# 3. Standard deviation and variance per student\n",
    "print(\"\\n3. Standard Deviation and Variance per student:\\n\")\n",
    "for i in range(len(names)):\n",
    "    std = np.std(scores[i])\n",
    "    var = np.var(scores[i])\n",
    "    print(f\"{names[i]}: Std Dev = {std}, Variance = {var}\")\n"
   ]
  },
  {
   "cell_type": "markdown",
   "id": "3752db9a",
   "metadata": {},
   "source": [
    "#### Part 10: Visualization Preparation\n",
    "Task:\n",
    "- Subject-wise average data [To be used for bar chart]\n",
    "- Student total scores data [ To be used for ranking chart]\n",
    "- Scores Matrix [ To be used for Heatmap Array]"
   ]
  },
  {
   "cell_type": "code",
   "execution_count": 12,
   "id": "086bfdf0",
   "metadata": {},
   "outputs": [],
   "source": [
    "import numpy as np\n",
    "\n",
    "names = ['Aaa', 'Bbb', 'Ccc', 'Ann', 'Sita', 'Ram', 'Shyam', 'Tina', 'Gita', 'John']\n",
    "subjects = ['Maths', 'Science', 'Computer', 'English', 'Nepali']\n",
    "\n",
    "np.random.seed(42)\n",
    "scores = np.random.randint(35, 100, size=(10, 5))  # 10 students × 5 subjects\n"
   ]
  },
  {
   "cell_type": "code",
   "execution_count": 13,
   "id": "9997cdf3",
   "metadata": {},
   "outputs": [
    {
     "name": "stdout",
     "output_type": "stream",
     "text": [
      "📊 Subject-wise Averages (for Bar Chart):\n",
      "Maths: 67.60\n",
      "Science: 65.10\n",
      "Computer: 76.90\n",
      "English: 71.80\n",
      "Nepali: 66.00\n"
     ]
    }
   ],
   "source": [
    "subject_averages = scores.mean(axis=0)  # Mean for each subject (column-wise)\n",
    "print(\"📊 Subject-wise Averages (for Bar Chart):\")\n",
    "for subj, avg in zip(subjects, subject_averages):\n",
    "    print(f\"{subj}: {avg:.2f}\")\n"
   ]
  },
  {
   "cell_type": "code",
   "execution_count": 14,
   "id": "a504eb89",
   "metadata": {},
   "outputs": [
    {
     "name": "stdout",
     "output_type": "stream",
     "text": [
      "\n",
      "🏆 Student Total Scores (for Ranking Chart):\n",
      "Aaa: 343\n",
      "Bbb: 280\n",
      "Ccc: 355\n",
      "Ann: 391\n",
      "Sita: 411\n",
      "Ram: 449\n",
      "Shyam: 291\n",
      "Tina: 275\n",
      "Gita: 337\n",
      "John: 342\n"
     ]
    }
   ],
   "source": [
    "student_totals = scores.sum(axis=1)  # Total score of each student (row-wise)\n",
    "print(\"\\n🏆 Student Total Scores (for Ranking Chart):\")\n",
    "for name, total in zip(names, student_totals):\n",
    "    print(f\"{name}: {total}\")\n"
   ]
  },
  {
   "cell_type": "code",
   "execution_count": 15,
   "id": "48353da3",
   "metadata": {},
   "outputs": [
    {
     "name": "stdout",
     "output_type": "stream",
     "text": [
      "\n",
      "🔥 Scores Matrix (for Heatmap):\n",
      "[[86 49 95 55 58]\n",
      " [37 56 87 36 64]\n",
      " [72 36 98 94 55]\n",
      " [67 92 56 83 93]\n",
      " [76 94 49 96 96]\n",
      " [81 96 85 89 98]\n",
      " [37 85 41 55 73]\n",
      " [52 38 94 48 43]\n",
      " [87 36 94 78 42]\n",
      " [81 69 70 84 38]]\n"
     ]
    }
   ],
   "source": [
    "print(\"\\n🔥 Scores Matrix (for Heatmap):\")\n",
    "print(scores)  # This will be a 10x5 array\n"
   ]
  },
  {
   "cell_type": "code",
   "execution_count": 16,
   "id": "7aea0ba5",
   "metadata": {},
   "outputs": [
    {
     "name": "stderr",
     "output_type": "stream",
     "text": [
      "C:\\Users\\A C E R\\AppData\\Local\\Temp\\ipykernel_19004\\2704040993.py:19: UserWarning: Glyph 128202 (\\N{BAR CHART}) missing from font(s) DejaVu Sans.\n",
      "  plt.tight_layout()\n",
      "c:\\Users\\A C E R\\Desktop\\DS\\broadwayenv\\Lib\\site-packages\\IPython\\core\\pylabtools.py:170: UserWarning: Glyph 128202 (\\N{BAR CHART}) missing from font(s) DejaVu Sans.\n",
      "  fig.canvas.print_figure(bytes_io, **kw)\n"
     ]
    },
    {
     "data": {
      "image/png": "[encoded data removed]",
      "text/plain": [
       "<Figure size 800x500 with 1 Axes>"
      ]
     },
     "metadata": {},
     "output_type": "display_data"
    },
    {
     "name": "stderr",
     "output_type": "stream",
     "text": [
      "C:\\Users\\A C E R\\AppData\\Local\\Temp\\ipykernel_19004\\2704040993.py:34: UserWarning: Glyph 127942 (\\N{TROPHY}) missing from font(s) DejaVu Sans.\n",
      "  plt.tight_layout()\n",
      "c:\\Users\\A C E R\\Desktop\\DS\\broadwayenv\\Lib\\site-packages\\IPython\\core\\pylabtools.py:170: UserWarning: Glyph 127942 (\\N{TROPHY}) missing from font(s) DejaVu Sans.\n",
      "  fig.canvas.print_figure(bytes_io, **kw)\n"
     ]
    },
    {
     "data": {
      "image/png": "[encoded data removed]",
      "text/plain": [
       "<Figure size 1000x600 with 1 Axes>"
      ]
     },
     "metadata": {},
     "output_type": "display_data"
    },
    {
     "name": "stderr",
     "output_type": "stream",
     "text": [
      "C:\\Users\\A C E R\\AppData\\Local\\Temp\\ipykernel_19004\\2704040993.py:43: UserWarning: Glyph 128293 (\\N{FIRE}) missing from font(s) DejaVu Sans.\n",
      "  plt.tight_layout()\n",
      "c:\\Users\\A C E R\\Desktop\\DS\\broadwayenv\\Lib\\site-packages\\IPython\\core\\pylabtools.py:170: UserWarning: Glyph 128293 (\\N{FIRE}) missing from font(s) DejaVu Sans.\n",
      "  fig.canvas.print_figure(bytes_io, **kw)\n"
     ]
    },
    {
     "data": {
      "image/png": "[encoded data removed]",
      "text/plain": [
       "<Figure size 1000x600 with 2 Axes>"
      ]
     },
     "metadata": {},
     "output_type": "display_data"
    }
   ],
   "source": [
    "import numpy as np\n",
    "import matplotlib.pyplot as plt\n",
    "import seaborn as sns\n",
    "\n",
    "# Setup\n",
    "names = ['Aaa', 'Bbb', 'Ccc', 'Ann', 'Sita', 'Ram', 'Shyam', 'Tina', 'Gita', 'John']\n",
    "subjects = ['Maths', 'Science', 'Computer', 'English', 'Nepali']\n",
    "np.random.seed(42)\n",
    "scores = np.random.randint(35, 100, size=(10, 5))\n",
    "\n",
    "# 1. 📊 Subject-wise Averages – Bar Chart\n",
    "subject_avg = scores.mean(axis=0)\n",
    "plt.figure(figsize=(8, 5))\n",
    "plt.bar(subjects, subject_avg, color='skyblue')\n",
    "plt.title('📊 Subject-wise Average Scores')\n",
    "plt.ylabel('Average Marks')\n",
    "plt.xlabel('Subjects')\n",
    "plt.grid(axis='y', linestyle='--', alpha=0.5)\n",
    "plt.tight_layout()\n",
    "plt.show()\n",
    "\n",
    "# 2. 🏆 Student Total Scores – Ranking Chart\n",
    "student_totals = scores.sum(axis=1)\n",
    "plt.figure(figsize=(10, 6))\n",
    "sorted_indices = np.argsort(student_totals)[::-1]\n",
    "sorted_names = [names[i] for i in sorted_indices]\n",
    "sorted_scores = student_totals[sorted_indices]\n",
    "\n",
    "plt.barh(sorted_names, sorted_scores, color='lightgreen')\n",
    "plt.title('🏆 Student Total Scores (Ranking)')\n",
    "plt.xlabel('Total Marks')\n",
    "plt.gca().invert_yaxis()\n",
    "plt.grid(axis='x', linestyle='--', alpha=0.5)\n",
    "plt.tight_layout()\n",
    "plt.show()\n",
    "\n",
    "# 3. 🔥 Scores Matrix – Heatmap\n",
    "plt.figure(figsize=(10, 6))\n",
    "sns.heatmap(scores, annot=True, cmap='YlOrRd', xticklabels=subjects, yticklabels=names, linewidths=0.5)\n",
    "plt.title('🔥 Student Scores Heatmap')\n",
    "plt.xlabel('Subjects')\n",
    "plt.ylabel('Students')\n",
    "plt.tight_layout()\n",
    "plt.show()\n"
   ]
  }
 ],
 "metadata": {
  "kernelspec": {
   "display_name": "broadwayenv",
   "language": "python",
   "name": "python3"
  },
  "language_info": {
   "codemirror_mode": {
    "name": "ipython",
    "version": 3
   },
   "file_extension": ".py",
   "mimetype": "text/x-python",
   "name": "python",
   "nbconvert_exporter": "python",
   "pygments_lexer": "ipython3",
   "version": "3.13.3"
  }
 },
 "nbformat": 4,
 "nbformat_minor": 5
}
