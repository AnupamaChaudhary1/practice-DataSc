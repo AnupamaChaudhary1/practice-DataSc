{
 "cells": [
  {
   "cell_type": "markdown",
   "id": "3a12f153",
   "metadata": {},
   "source": [
    "#Task:simulate marks of 10 students in 5 subjects. Each mark should be between 35 and 100.\n",
    "list of names of students\n",
    "subjects=['maths','science','computer','english','nepali']"
   ]
  },
  {
   "cell_type": "code",
   "execution_count": 14,
   "id": "c024157b",
   "metadata": {},
   "outputs": [
    {
     "name": "stdout",
     "output_type": "stream",
     "text": [
      "Subjects: ['maths', 'science', 'computer', 'english', 'nepali']\n",
      "Aaa: [86 49 95 55 58]\n",
      "Bbb: [37 56 87 36 64]\n",
      "Ccc: [72 36 98 94 55]\n",
      "Ann: [67 92 56 83 93]\n",
      "Sita: [76 94 49 96 96]\n",
      "Ram: [81 96 85 89 98]\n",
      "Shyam: [37 85 41 55 73]\n",
      "Tina: [52 38 94 48 43]\n",
      "Gita: [87 36 94 78 42]\n",
      "John: [81 69 70 84 38]\n"
     ]
    }
   ],
   "source": [
    "import numpy as np\n",
    "i=1\n",
    "names=['Aaa','Bbb','Ccc','Ann','Sita','Ram','Shyam','Tina','Gita','John']\n",
    "subjects=['maths','science','computer','english','nepali']\n",
    "np.random.seed(42)\n",
    "scores = np.random.randint(35, 100, size=(10, 5))\n",
    "# print(scores)\n",
    "print(f\"Subjects: {subjects}\")\n",
    "for i in range(len(scores)):\n",
    "   \n",
    "   print(f\"{names [i]}: {scores[i]}\")"
   ]
  },
  {
   "cell_type": "markdown",
   "id": "6fdf1e88",
   "metadata": {},
   "source": [
    "# Basic analysis\n",
    "# Tasks\n",
    "-Total score per student\n",
    "-Average score per student\n",
    "-subject wise average"
   ]
  },
  {
   "cell_type": "code",
   "execution_count": null,
   "id": "7de6ca61",
   "metadata": {},
   "outputs": [
    {
     "name": "stdout",
     "output_type": "stream",
     "text": [
      "Average of subject maths: 68.6\n",
      "Average of subject science: 56.0\n",
      "Average of subject computer: 71.0\n",
      "Average of subject english: 78.2\n",
      "Average of subject nepali: 82.2\n",
      "Total of Aaa: 343, Average of Aaa is: 68.6\n",
      "Total of Bbb: 280, Average of Bbb is: 56.0\n",
      "Total of Ccc: 355, Average of Ccc is: 71.0\n",
      "Total of Ann: 391, Average of Ann is: 78.2\n",
      "Total of Sita: 411, Average of Sita is: 82.2\n",
      "Total of Ram: 449, Average of Ram is: 89.8\n",
      "Total of Shyam: 291, Average of Shyam is: 58.2\n",
      "Total of Tina: 275, Average of Tina is: 55.0\n",
      "Total of Gita: 337, Average of Gita is: 67.4\n",
      "Total of John: 342, Average of John is: 68.4\n"
     ]
    }
   ],
   "source": [
    "import numpy as np\n",
    "names = ['Aaa', 'Bbb', 'Ccc', 'Ann', 'Sita', 'Ram', 'Shyam', 'Tina', 'Gita', 'John']\n",
    "np.random.seed(42)\n",
    "scores = np.random.randint(35, 100, size=(10, 5))\n",
    "subjects=['maths','science','computer','english','nepali']\n",
    "for j in range(len(subjects)):\n",
    "    print(f\"Average of subject {subjects[j]}:\",  scores[j].mean())\n",
    "for i in range(len(scores)):\n",
    "    total = scores[i].sum()\n",
    "    average = scores[i].mean()\n",
    "    print(f\"Total of {names[i]}: {total}, Average of {names[i]} is: {average}\")\n"
   ]
  },
  {
   "cell_type": "markdown",
   "id": "18e76674",
   "metadata": {},
   "source": [
    "#### Part 3: Ranking and Top Performers\n",
    "Task:\n",
    "- Top 3 students based on total\n",
    "- Lowest 3 students based on total\n",
    "- Display their names and total/average"
   ]
  },
  {
   "cell_type": "code",
   "execution_count": 24,
   "id": "9534d752",
   "metadata": {},
   "outputs": [
    {
     "name": "stdout",
     "output_type": "stream",
     "text": [
      "Top3 students:\n",
      "Ram- total: 449,  Average: 89.8\n",
      "Sita- total: 411,  Average: 82.2\n",
      "Ann- total: 391,  Average: 78.2\n",
      "Lowest students:\n",
      "Tina total: 275,  Average: 55.0\n",
      "Bbb total: 280,  Average: 56.0\n",
      "Shyam total: 291,  Average: 58.2\n"
     ]
    }
   ],
   "source": [
    "import numpy as np\n",
    "names = ['Aaa', 'Bbb', 'Ccc', 'Ann', 'Sita', 'Ram', 'Shyam', 'Tina', 'Gita', 'John']\n",
    "np.random.seed(42)\n",
    "scores=np.random.randint(35,100, size=(10,5))\n",
    "subjects=['maths','science','computer','english','nepali']\n",
    "total = []\n",
    "average = []\n",
    "for i in range(len(scores)):\n",
    "    total.append(scores[i].sum())\n",
    "    average.append(scores[i].mean())\n",
    "top3=np.argsort(total)[-3:][::-1]\n",
    "print(\"Top3 students:\")\n",
    "for i in top3:\n",
    "    print(f\"{names[i]}- total: {total[i]},  Average: {average[i]}\")\n",
    "\n",
    "lowest3=np.argsort(total)[:3]\n",
    "print(\"Lowest students:\")\n",
    "for i in lowest3:\n",
    "    print(f\"{names[i]} total: {total[i]},  Average: {average[i]}\")"
   ]
  },
  {
   "cell_type": "markdown",
   "id": "dd134d8f",
   "metadata": {},
   "source": [
    "#### Part 4: Score Normalization\n",
    "Task: \n",
    "- Normalize total scores to 0-1\n",
    "- Show top 3 normalized students\n",
    "- Find out the university topper."
   ]
  },
  {
   "cell_type": "code",
   "execution_count": 40,
   "id": "e3c75e2f",
   "metadata": {},
   "outputs": [
    {
     "name": "stdout",
     "output_type": "stream",
     "text": [
      "Top 3 students:\n",
      "Ram - Normalized total: 1.0 Total: 449\n",
      "Sita - Normalized total: 0.7816091954022989 Total: 411\n",
      "Ann - Normalized total: 0.6666666666666666 Total: 391\n",
      "\n",
      "Topper student: Ram\n"
     ]
    }
   ],
   "source": [
    "import numpy as np\n",
    "names = ['Aaa', 'Bbb', 'Ccc', 'Ann', 'Sita', 'Ram', 'Shyam', 'Tina', 'Gita', 'John']\n",
    "np.random.seed(42)\n",
    "scores=np.random.randint(35,100, size=(10,5))\n",
    "subjects=['maths','science','computer','english','nepali']\n",
    "total = scores.sum(axis=1)\n",
    "norm_total = (total - total.min()) / (total.max() - total.min()) \n",
    "print(\"Top 3 students:\")\n",
    "for i in top3:\n",
    "    print(f\"{names[i]} - Normalized total: {norm_total[i]:} Total: {total[i]}\")\n",
    "\n",
    "top1 = np.argmax(norm_total)\n",
    "print(f\"\\nTopper student: {names[top1]}\")\n",
    "\n"
   ]
  },
  {
   "cell_type": "markdown",
   "id": "c6b12d10",
   "metadata": {},
   "source": [
    "#### Part 5: Subject Wise Analysis (Pick only one college data)\n",
    "Task\n",
    "- Subject with Highest Average\n",
    "- Subject with Most Variation (Standard Deviation)"
   ]
  },
  {
   "cell_type": "code",
   "execution_count": 41,
   "id": "dc120dc3",
   "metadata": {},
   "outputs": [
    {
     "name": "stdout",
     "output_type": "stream",
     "text": [
      "The subject with maximum average value is: 76.9\n",
      "The subject with maximum variation is: 23.863989607775142\n"
     ]
    }
   ],
   "source": [
    "import numpy as np\n",
    "names = ['Aaa', 'Bbb', 'Ccc', 'Ann', 'Sita', 'Ram', 'Shyam', 'Tina', 'Gita', 'John']\n",
    "np.random.seed(42)\n",
    "scores = np.random.randint(35, 100, size=(10, 5))\n",
    "subjects = ['maths', 'science', 'computer', 'english', 'nepali']\n",
    "\n",
    "# Calculate average and std deviation per subject (column-wise)\n",
    "subject_avg = scores.mean(axis=0)\n",
    "subject_std = scores.std(axis=0)\n",
    "max=np.argmax(subject_avg)\n",
    "max_std=np.argmax(subject_std)\n",
    "print(f\"The subject with maximum average value is: {subject_avg[max]}\")\n",
    "print(f\"The subject with maximum variation is: {subject_std[max_std]}\")"
   ]
  },
  {
   "cell_type": "markdown",
   "id": "8dc7a04e",
   "metadata": {},
   "source": [
    "#### Part 6: Performance Flags\n",
    "Task\n",
    "- Label students as Excellent (avg > 85), Average (avg > 60) or Needs Improvement"
   ]
  },
  {
   "cell_type": "code",
   "execution_count": 43,
   "id": "c6fd9c8b",
   "metadata": {},
   "outputs": [
    {
     "name": "stdout",
     "output_type": "stream",
     "text": [
      "Aaa- Average=68.6= Average\n",
      "Bbb- Average=56.0= Needs Improvement\n",
      "Ccc- Average=71.0= Average\n",
      "Ann- Average=78.2= Average\n",
      "Sita- Average=82.2= Average\n",
      "Ram- Average=89.8= Excellent\n",
      "Shyam- Average=58.2= Needs Improvement\n",
      "Tina- Average=55.0= Needs Improvement\n",
      "Gita- Average=67.4= Average\n",
      "John- Average=68.4= Average\n"
     ]
    }
   ],
   "source": [
    "import numpy as np\n",
    "names = ['Aaa', 'Bbb', 'Ccc', 'Ann', 'Sita', 'Ram', 'Shyam', 'Tina', 'Gita', 'John']\n",
    "np.random.seed(42)\n",
    "scores = np.random.randint(35, 100, size=(10, 5))\n",
    "subjects=['maths','science','computer','english','nepali']\n",
    "averages = scores.mean(axis=1)\n",
    "\n",
    "for i in range(len(names)):\n",
    "    if averages[i]>85:\n",
    "        label= \"Excellent\"\n",
    "    elif averages[i]>60:\n",
    "        label=\"Average\"\n",
    "    else:\n",
    "        label=\"Needs Improvement\"\n",
    "    print(f\"{names[i]}- Average={averages[i]}= {label}\")\n",
    "\n"
   ]
  },
  {
   "cell_type": "markdown",
   "id": "1b9c0af5",
   "metadata": {},
   "source": [
    "#### Part 7: Grace Marks + Recalculation\n",
    "Task\n",
    "- Add 5 bonus marks to all students in Science\n",
    "- Recalculate averages\n",
    "- Identify who gained most improvement."
   ]
  },
  {
   "cell_type": "code",
   "execution_count": null,
   "id": "b4e6a1d8",
   "metadata": {},
   "outputs": [
    {
     "name": "stdout",
     "output_type": "stream",
     "text": [
      "Aaa: Average is: 69.6, Old average is 68.6\n",
      "Bbb: Average is: 57.0, Old average is 56.0\n",
      "Ccc: Average is: 71.0, Old average is 71.0\n",
      "Ann: Average is: 79.2, Old average is 78.2\n",
      "Sita: Average is: 83.2, Old average is 82.2\n",
      "Ram: Average is: 89.8, Old average is 89.8\n",
      "Shyam: Average is: 59.2, Old average is 58.2\n",
      "Tina: Average is: 55.0, Old average is 55.0\n",
      "Gita: Average is: 67.4, Old average is 67.4\n",
      "John: Average is: 69.4, Old average is 68.4\n",
      "\n",
      "Most Improved: Aaa 1.0\n"
     ]
    }
   ],
   "source": [
    "import numpy as np\n",
    "\n",
    "names = ['Aaa', 'Bbb', 'Ccc', 'Ann', 'Sita', 'Ram', 'Shyam', 'Tina', 'Gita', 'John']\n",
    "subjects = ['maths', 'science', 'computer', 'english', 'nepali']\n",
    "\n",
    "np.random.seed(42)\n",
    "scores = np.random.randint(35, 100, size=(10, 5))\n",
    "\n",
    "# Before grace marks\n",
    "old_avg = scores.mean(axis=1)\n",
    "\n",
    "# Add 5 bonus marks in science (column index 1)\n",
    "for i in range(len(scores)):\n",
    "    if 40 <= scores[i, 1] <= 95:\n",
    "        scores[i, 1]+= 5\n",
    "    \n",
    "# After grace marks\n",
    "new_avg = scores.mean(axis=1)\n",
    "# Improvement in average\n",
    "improvement = new_avg - old_avg\n",
    "# student with highest improvement\n",
    "max_improve_index = np.argmax(improvement)\n",
    "# total and average for each student\n",
    "for i in range(len(scores)):\n",
    "    total = scores[i].sum()\n",
    "    average = scores[i].mean()\n",
    "    print(f\"{names[i]}: Average is: {average}, Old average is {old_avg[i]}\")\n",
    "\n",
    "print(f\"\\nMost Improved: {names[max_improve_index]} \")\n",
    "\n"
   ]
  },
  {
   "cell_type": "markdown",
   "id": "361f80f6",
   "metadata": {},
   "source": [
    "#### Part 8: Full Performance Report\n",
    "Task:\n",
    "- Build a structured report for each student.\n",
    "Sample:\n",
    "` Sample Test Report `\n",
    "> Name: Sita (Index 0)\n",
    "> Marks: [88 76 92 90 84]\n",
    "> Total: 430 | Average: 86.00 | Normalized: 0.90\n",
    "> Result: Pass\n",
    "> Tag: Excellent\n",
    "> Below average in: Computer"
   ]
  },
  {
   "cell_type": "markdown",
   "id": "9ffa5099",
   "metadata": {},
   "source": [
    "#### Part 9: Student Ranking and Subject Analytics\n",
    "Task:\n",
    "1. Print students ranked by average\n",
    "2. Highlight students who scored below average in Social Studies.\n",
    "3. Calculate standard deviation and variance for each student."
   ]
  },
  {
   "cell_type": "markdown",
   "id": "3752db9a",
   "metadata": {},
   "source": [
    "#### Part 10: Visualization Preparation\n",
    "Task:\n",
    "- Subject-wise average data [To be used for bar chart]\n",
    "- Student total scores data [ To be used for ranking chart]\n",
    "- Scores Matrix [ To be used for Heatmap Array]"
   ]
  }
 ],
 "metadata": {
  "kernelspec": {
   "display_name": "Python (broadwayenv)",
   "language": "python",
   "name": "broadwayenv"
  },
  "language_info": {
   "codemirror_mode": {
    "name": "ipython",
    "version": 3
   },
   "file_extension": ".py",
   "mimetype": "text/x-python",
   "name": "python",
   "nbconvert_exporter": "python",
   "pygments_lexer": "ipython3",
   "version": "3.13.3"
  }
 },
 "nbformat": 4,
 "nbformat_minor": 5
}
