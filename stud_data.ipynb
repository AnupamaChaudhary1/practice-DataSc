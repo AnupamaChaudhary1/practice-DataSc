{
 "cells": [
  {
   "cell_type": "markdown",
   "id": "490ecf94-dc87-4fa8-88bf-9ccb88e73b46",
   "metadata": {},
   "source": [
    "Program 8: Now, can we load the data from the csv file?"
   ]
  },
  {
   "cell_type": "code",
   "execution_count": 1,
   "id": "38bac748-d8ab-4472-866a-6d526cf785be",
   "metadata": {},
   "outputs": [
    {
     "name": "stdout",
     "output_type": "stream",
     "text": [
      "{'Name': 'Tina', 'Age': '19'}\n",
      "{'Name': 'aaa', 'Age': '39'}\n",
      "{'Name': 'ddd', 'Age': '37'}\n"
     ]
    }
   ],
   "source": [
    "import csv\n",
    "students = []\n",
    "with open(\"student.csv\", mode=\"r\") as file:\n",
    "        reader=csv.DictReader(file)\n",
    "        for r in reader:\n",
    "          students.append(r)\n",
    "for student in students:\n",
    "   print(student)\n"
   ]
  },
  {
   "cell_type": "code",
   "execution_count": 1,
   "id": "faa109b2",
   "metadata": {},
   "outputs": [
    {
     "name": "stdout",
     "output_type": "stream",
     "text": [
      "The 4 digits with the greatest product are: 5576689664895\n",
      "The greatest product is: 23514624000\n"
     ]
    }
   ],
   "source": [
    "# Step 1: Define the 1000-digit number as a single string\n",
    "number = (\n",
    "    \"73167176531330624919225119674426574742355349194934\"\n",
    "    \"96983520312774506326239578318016984801869478851843\"\n",
    "    \"85861560789112949495459501737958331952853208805511\"\n",
    "    \"12540698747158523863050715693290963295227443043557\"\n",
    "    \"66896648950445244523161731856403098711121722383113\"\n",
    "    \"62229893423380308135336276614282806444486645238749\"\n",
    "    \"30358907296290491560440772390713810515859307960866\"\n",
    "    \"70172427121883998797908792274921901699720888093776\"\n",
    "    \"65727333001053367881220235421809751254540594752243\"\n",
    "    \"52584907711670556013604839586446706324415722155397\"\n",
    "    \"53697817977846174064955149290862569321978468622482\"\n",
    "    \"83972241375657056057490261407972968652414535100474\"\n",
    "    \"82166370484403199890008895243450658541227588666881\"\n",
    "    \"16427171479924442928230863465674813919123162824586\"\n",
    "    \"17866458359124566529476545682848912883142607690042\"\n",
    "    \"24219022671055626321111109370544217506941658960408\"\n",
    "    \"07198403850962455444362981230987879927244284909188\"\n",
    "    \"84580156166097919133875499200524063689912560717606\"\n",
    "    \"05886116467109405077541002256983155200055935729725\"\n",
    "    \"71636269561882670428252483600823257530420752963450\"\n",
    ")\n",
    "\n",
    "# Step 2: Loop through all sets of 4 digits\n",
    "max_product = 0\n",
    "best_digits = \"\"\n",
    "\n",
    "for i in range(len(number) - 12):  # because we are taking 4 digits at a time\n",
    "    digits=[int(number[i + j]) for j in range(13)]\n",
    "    product=1\n",
    "    for a in digits:\n",
    "        product*=a\n",
    "    \n",
    "    if product > max_product:\n",
    "        max_product = product\n",
    "        best_digits = number[i:i+13]\n",
    "\n",
    "# Step 3: Show the result\n",
    "print(\"The 4 digits with the greatest product are:\", best_digits)\n",
    "print(\"The greatest product is:\", max_product)\n"
   ]
  },
  {
   "cell_type": "code",
   "execution_count": 12,
   "id": "744ecdae",
   "metadata": {},
   "outputs": [
    {
     "name": "stdout",
     "output_type": "stream",
     "text": [
      "64.6\n"
     ]
    }
   ],
   "source": [
    "sita=[80,40,60,65,78]\n",
    "sum=0\n",
    "for i in range (len(sita)):\n",
    "    sum+=sita[i]\n",
    "    avg=sum/len(sita)\n",
    "print(avg)"
   ]
  },
  {
   "cell_type": "code",
   "execution_count": null,
   "id": "d1c69dee",
   "metadata": {},
   "outputs": [],
   "source": []
  }
 ],
 "metadata": {
  "kernelspec": {
   "display_name": "Python 3",
   "language": "python",
   "name": "python3"
  },
  "language_info": {
   "codemirror_mode": {
    "name": "ipython",
    "version": 3
   },
   "file_extension": ".py",
   "mimetype": "text/x-python",
   "name": "python",
   "nbconvert_exporter": "python",
   "pygments_lexer": "ipython3",
   "version": "3.13.3"
  }
 },
 "nbformat": 4,
 "nbformat_minor": 5
}
