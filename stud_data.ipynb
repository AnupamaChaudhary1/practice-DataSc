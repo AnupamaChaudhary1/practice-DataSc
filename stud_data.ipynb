{
 "cells": [
  {
   "cell_type": "markdown",
   "id": "490ecf94-dc87-4fa8-88bf-9ccb88e73b46",
   "metadata": {},
   "source": [
    "Program 8: Now, can we load the data from the csv file?"
   ]
  },
  {
   "cell_type": "code",
   "execution_count": 1,
   "id": "38bac748-d8ab-4472-866a-6d526cf785be",
   "metadata": {},
   "outputs": [
    {
     "name": "stdout",
     "output_type": "stream",
     "text": [
      "{'Name': 'Tina', 'Age': '19'}\n",
      "{'Name': 'aaa', 'Age': '39'}\n",
      "{'Name': 'ddd', 'Age': '37'}\n"
     ]
    }
   ],
   "source": [
    "import csv\n",
    "students = []\n",
    "with open(\"student.csv\", mode=\"r\") as file:\n",
    "        reader=csv.DictReader(file)\n",
    "        for r in reader:\n",
    "          students.append(r)\n",
    "for student in students:\n",
    "   print(student)\n"
   ]
  },
  {
   "cell_type": "code",
   "execution_count": null,
   "id": "faa109b2",
   "metadata": {},
   "outputs": [],
   "source": []
  }
 ],
 "metadata": {
  "kernelspec": {
   "display_name": "Python 3",
   "language": "python",
   "name": "python3"
  },
  "language_info": {
   "codemirror_mode": {
    "name": "ipython",
    "version": 3
   },
   "file_extension": ".py",
   "mimetype": "text/x-python",
   "name": "python",
   "nbconvert_exporter": "python",
   "pygments_lexer": "ipython3",
   "version": "3.13.3"
  }
 },
 "nbformat": 4,
 "nbformat_minor": 5
}
